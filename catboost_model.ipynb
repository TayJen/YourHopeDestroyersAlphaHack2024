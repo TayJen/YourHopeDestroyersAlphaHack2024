{
  "cells": [
    {
      "cell_type": "code",
      "execution_count": null,
      "metadata": {
        "id": "rTbj6JC0w3YL"
      },
      "outputs": [],
      "source": [
        "import pandas as pd\n",
        "import numpy as np\n",
        "import matplotlib.pyplot as plt\n",
        "import seaborn as sns\n",
        "import os\n",
        "import shap\n",
        "\n",
        "from sklearn.model_selection import train_test_split, StratifiedKFold\n",
        "from sklearn.metrics import roc_auc_score\n",
        "from catboost import CatBoostClassifier, Pool\n",
        "\n",
        "import optuna"
      ]
    },
    {
      "cell_type": "code",
      "execution_count": null,
      "metadata": {
        "id": "dN64yPVCw59T"
      },
      "outputs": [],
      "source": [
        "sns.set()"
      ]
    },
    {
      "cell_type": "markdown",
      "metadata": {
        "id": "TbOpmSvUw9av"
      },
      "source": [
        "# TYPE DICT"
      ]
    },
    {
      "cell_type": "code",
      "execution_count": null,
      "metadata": {
        "id": "eju921naw-t2",
        "jupyter": {
          "source_hidden": true
        }
      },
      "outputs": [],
      "source": [
        "types_dict = {\n",
        "'feature_31': 'int8',\n",
        "'feature_43': 'int8',\n",
        "'feature_61': 'int8',\n",
        "'feature_64': 'int8',\n",
        "'feature_80': 'int8',\n",
        "'feature_83': 'int8',\n",
        "'feature_92': 'int8',\n",
        "'feature_133': 'int8',\n",
        "'feature_143': 'int8',\n",
        "'feature_191': 'int8',\n",
        "'feature_201': 'int8',\n",
        "'feature_209': 'int8',\n",
        "'feature_251': 'int8',\n",
        "'feature_253': 'int8',\n",
        "'feature_299': 'int8',\n",
        "'feature_300': 'int8',\n",
        "'feature_343': 'int8',\n",
        "'feature_382': 'int8',\n",
        "'feature_392': 'int8',\n",
        "'feature_406': 'int8',\n",
        "'feature_423': 'int8',\n",
        "'feature_446': 'int8',\n",
        "'feature_449': 'int8',\n",
        "'feature_459': 'int8',\n",
        "'feature_490': 'int8',\n",
        "'feature_17': 'int8',\n",
        "'feature_21': 'int8',\n",
        "'feature_22': 'int8',\n",
        "'feature_27': 'int8',\n",
        "'feature_166': 'int8',\n",
        "'feature_173': 'int8',\n",
        "'feature_347': 'int8',\n",
        "'feature_405': 'int8',\n",
        "'feature_434': 'int8',\n",
        "'feature_492': 'int8',\n",
        "'target': 'int8',\n",
        "'feature_1': 'float16',\n",
        "'feature_2': 'float16',\n",
        "'feature_3': 'float16',\n",
        "'feature_4': 'float16',\n",
        "'feature_5': 'float16',\n",
        "'feature_6': 'float16',\n",
        "'feature_7': 'float16',\n",
        "'feature_8': 'float16',\n",
        "'feature_9': 'float16',\n",
        "'feature_10': 'float16',\n",
        "'feature_11': 'float16',\n",
        "'feature_12': 'float16',\n",
        "'feature_13': 'float16',\n",
        "'feature_14': 'float16',\n",
        "'feature_15': 'float16',\n",
        "'feature_16': 'float16',\n",
        "'feature_18': 'float16',\n",
        "'feature_19': 'float16',\n",
        "'feature_20': 'float16',\n",
        "'feature_23': 'float16',\n",
        "'feature_24': 'float16',\n",
        "'feature_25': 'float16',\n",
        "'feature_26': 'float16',\n",
        "'feature_28': 'float16',\n",
        "'feature_29': 'float16',\n",
        "'feature_30': 'float16',\n",
        "'feature_32': 'float16',\n",
        "'feature_33': 'float16',\n",
        "'feature_34': 'float16',\n",
        "'feature_35': 'float16',\n",
        "'feature_36': 'float16',\n",
        "'feature_37': 'float16',\n",
        "'feature_38': 'float16',\n",
        "'feature_39': 'float16',\n",
        "'feature_40': 'float16',\n",
        "'feature_41': 'float16',\n",
        "'feature_42': 'float16',\n",
        "'feature_44': 'float16',\n",
        "'feature_45': 'float16',\n",
        "'feature_46': 'float16',\n",
        "'feature_47': 'float16',\n",
        "'feature_48': 'float16',\n",
        "'feature_49': 'float16',\n",
        "'feature_50': 'float16',\n",
        "'feature_51': 'float16',\n",
        "'feature_52': 'float16',\n",
        "'feature_53': 'float16',\n",
        "'feature_54': 'float16',\n",
        "'feature_55': 'float16',\n",
        "'feature_56': 'float16',\n",
        "'feature_57': 'float16',\n",
        "'feature_58': 'float16',\n",
        "'feature_59': 'float16',\n",
        "'feature_60': 'float16',\n",
        "'feature_62': 'float16',\n",
        "'feature_63': 'float16',\n",
        "'feature_65': 'float16',\n",
        "'feature_66': 'float16',\n",
        "'feature_67': 'float16',\n",
        "'feature_68': 'float16',\n",
        "'feature_69': 'float16',\n",
        "'feature_70': 'float16',\n",
        "'feature_71': 'float16',\n",
        "'feature_72': 'float16',\n",
        "'feature_73': 'float16',\n",
        "'feature_74': 'float16',\n",
        "'feature_75': 'float16',\n",
        "'feature_76': 'float16',\n",
        "'feature_77': 'float16',\n",
        "'feature_78': 'float16',\n",
        "'feature_79': 'float16',\n",
        "'feature_81': 'float16',\n",
        "'feature_82': 'float16',\n",
        "'feature_84': 'float16',\n",
        "'feature_85': 'float16',\n",
        "'feature_86': 'float16',\n",
        "'feature_87': 'float16',\n",
        "'feature_88': 'float16',\n",
        "'feature_89': 'float16',\n",
        "'feature_90': 'float16',\n",
        "'feature_91': 'float16',\n",
        "'feature_93': 'float16',\n",
        "'feature_94': 'float16',\n",
        "'feature_95': 'float16',\n",
        "'feature_96': 'float16',\n",
        "'feature_97': 'float16',\n",
        "'feature_98': 'float16',\n",
        "'feature_99': 'float16',\n",
        "'feature_100': 'float16',\n",
        "'feature_101': 'float16',\n",
        "'feature_102': 'float16',\n",
        "'feature_103': 'float16',\n",
        "'feature_104': 'float16',\n",
        "'feature_105': 'float16',\n",
        "'feature_106': 'float16',\n",
        "'feature_107': 'float16',\n",
        "'feature_108': 'float16',\n",
        "'feature_109': 'float16',\n",
        "'feature_110': 'float16',\n",
        "'feature_111': 'float16',\n",
        "'feature_112': 'float16',\n",
        "'feature_113': 'float16',\n",
        "'feature_114': 'float16',\n",
        "'feature_115': 'float16',\n",
        "'feature_116': 'float16',\n",
        "'feature_117': 'float16',\n",
        "'feature_118': 'float16',\n",
        "'feature_119': 'float16',\n",
        "'feature_120': 'float16',\n",
        "'feature_121': 'float16',\n",
        "'feature_122': 'float16',\n",
        "'feature_123': 'float16',\n",
        "'feature_124': 'float16',\n",
        "'feature_125': 'float16',\n",
        "'feature_126': 'float16',\n",
        "'feature_127': 'float16',\n",
        "'feature_128': 'float16',\n",
        "'feature_129': 'float16',\n",
        "'feature_130': 'float16',\n",
        "'feature_131': 'float16',\n",
        "'feature_132': 'float16',\n",
        "'feature_134': 'float16',\n",
        "'feature_135': 'float16',\n",
        "'feature_136': 'float16',\n",
        "'feature_137': 'float16',\n",
        "'feature_138': 'float16',\n",
        "'feature_139': 'float16',\n",
        "'feature_140': 'float16',\n",
        "'feature_141': 'float16',\n",
        "'feature_142': 'float16',\n",
        "'feature_144': 'float16',\n",
        "'feature_145': 'float16',\n",
        "'feature_146': 'float16',\n",
        "'feature_147': 'float16',\n",
        "'feature_148': 'float16',\n",
        "'feature_149': 'float16',\n",
        "'feature_150': 'float16',\n",
        "'feature_151': 'float16',\n",
        "'feature_152': 'float16',\n",
        "'feature_153': 'float16',\n",
        "'feature_154': 'float16',\n",
        "'feature_155': 'float16',\n",
        "'feature_156': 'float16',\n",
        "'feature_157': 'float16',\n",
        "'feature_158': 'float16',\n",
        "'feature_159': 'float16',\n",
        "'feature_160': 'float16',\n",
        "'feature_161': 'float16',\n",
        "'feature_162': 'float16',\n",
        "'feature_163': 'float16',\n",
        "'feature_164': 'float16',\n",
        "'feature_165': 'float16',\n",
        "'feature_167': 'float16',\n",
        "'feature_168': 'float16',\n",
        "'feature_169': 'float16',\n",
        "'feature_170': 'float16',\n",
        "'feature_171': 'float16',\n",
        "'feature_172': 'float16',\n",
        "'feature_174': 'float16',\n",
        "'feature_175': 'float16',\n",
        "'feature_176': 'float16',\n",
        "'feature_177': 'float16',\n",
        "'feature_178': 'float16',\n",
        "'feature_179': 'float16',\n",
        "'feature_180': 'float16',\n",
        "'feature_181': 'float16',\n",
        "'feature_182': 'float16',\n",
        "'feature_183': 'float16',\n",
        "'feature_184': 'float16',\n",
        "'feature_185': 'float16',\n",
        "'feature_186': 'float16',\n",
        "'feature_187': 'float16',\n",
        "'feature_188': 'float16',\n",
        "'feature_189': 'float16',\n",
        "'feature_190': 'float16',\n",
        "'feature_192': 'float16',\n",
        "'feature_193': 'float16',\n",
        "'feature_194': 'float16',\n",
        "'feature_195': 'float16',\n",
        "'feature_196': 'float16',\n",
        "'feature_197': 'float16',\n",
        "'feature_198': 'float16',\n",
        "'feature_199': 'float16',\n",
        "'feature_200': 'float16',\n",
        "'feature_202': 'float16',\n",
        "'feature_203': 'float16',\n",
        "'feature_204': 'float16',\n",
        "'feature_205': 'float16',\n",
        "'feature_206': 'float16',\n",
        "'feature_207': 'float16',\n",
        "'feature_208': 'float16',\n",
        "'feature_210': 'float16',\n",
        "'feature_211': 'float16',\n",
        "'feature_212': 'float16',\n",
        "'feature_213': 'float16',\n",
        "'feature_214': 'float16',\n",
        "'feature_215': 'float16',\n",
        "'feature_216': 'float16',\n",
        "'feature_217': 'float16',\n",
        "'feature_218': 'float16',\n",
        "'feature_219': 'float16',\n",
        "'feature_220': 'float16',\n",
        "'feature_221': 'float16',\n",
        "'feature_222': 'float16',\n",
        "'feature_223': 'float16',\n",
        "'feature_224': 'float16',\n",
        "'feature_225': 'float16',\n",
        "'feature_226': 'float16',\n",
        "'feature_227': 'float16',\n",
        "'feature_228': 'float16',\n",
        "'feature_229': 'float16',\n",
        "'feature_230': 'float16',\n",
        "'feature_231': 'float16',\n",
        "'feature_232': 'float16',\n",
        "'feature_233': 'float16',\n",
        "'feature_234': 'float16',\n",
        "'feature_235': 'float16',\n",
        "'feature_236': 'float16',\n",
        "'feature_237': 'float16',\n",
        "'feature_238': 'float16',\n",
        "'feature_239': 'float16',\n",
        "'feature_240': 'float16',\n",
        "'feature_241': 'float16',\n",
        "'feature_242': 'float16',\n",
        "'feature_243': 'float16',\n",
        "'feature_244': 'float16',\n",
        "'feature_245': 'float16',\n",
        "'feature_246': 'float16',\n",
        "'feature_247': 'float16',\n",
        "'feature_248': 'float16',\n",
        "'feature_249': 'float16',\n",
        "'feature_250': 'float16',\n",
        "'feature_252': 'float16',\n",
        "'feature_254': 'float16',\n",
        "'feature_255': 'float16',\n",
        "'feature_256': 'float16',\n",
        "'feature_257': 'float16',\n",
        "'feature_258': 'float16',\n",
        "'feature_259': 'float16',\n",
        "'feature_260': 'float16',\n",
        "'feature_261': 'float16',\n",
        "'feature_262': 'float16',\n",
        "'feature_263': 'float16',\n",
        "'feature_264': 'float16',\n",
        "'feature_265': 'float16',\n",
        "'feature_266': 'float16',\n",
        "'feature_267': 'float16',\n",
        "'feature_268': 'float16',\n",
        "'feature_269': 'float16',\n",
        "'feature_270': 'float16',\n",
        "'feature_271': 'float16',\n",
        "'feature_272': 'float16',\n",
        "'feature_273': 'float16',\n",
        "'feature_274': 'float16',\n",
        "'feature_275': 'float16',\n",
        "'feature_276': 'float16',\n",
        "'feature_277': 'float16',\n",
        "'feature_278': 'float16',\n",
        "'feature_279': 'float16',\n",
        "'feature_280': 'float16',\n",
        "'feature_281': 'float16',\n",
        "'feature_282': 'float16',\n",
        "'feature_283': 'float16',\n",
        "'feature_284': 'float16',\n",
        "'feature_285': 'float16',\n",
        "'feature_286': 'float16',\n",
        "'feature_287': 'float16',\n",
        "'feature_288': 'float16',\n",
        "'feature_289': 'float16',\n",
        "'feature_290': 'float16',\n",
        "'feature_291': 'float16',\n",
        "'feature_292': 'float16',\n",
        "'feature_293': 'float16',\n",
        "'feature_294': 'float16',\n",
        "'feature_295': 'float16',\n",
        "'feature_296': 'float16',\n",
        "'feature_297': 'float16',\n",
        "'feature_298': 'float16',\n",
        "'feature_301': 'float16',\n",
        "'feature_302': 'float16',\n",
        "'feature_303': 'float16',\n",
        "'feature_304': 'float16',\n",
        "'feature_305': 'float16',\n",
        "'feature_306': 'float16',\n",
        "'feature_307': 'float16',\n",
        "'feature_308': 'float16',\n",
        "'feature_309': 'float16',\n",
        "'feature_310': 'float16',\n",
        "'feature_311': 'float16',\n",
        "'feature_312': 'float16',\n",
        "'feature_313': 'float16',\n",
        "'feature_314': 'float16',\n",
        "'feature_315': 'float16',\n",
        "'feature_316': 'float16',\n",
        "'feature_317': 'float16',\n",
        "'feature_318': 'float16',\n",
        "'feature_319': 'float16',\n",
        "'feature_320': 'float16',\n",
        "'feature_321': 'float16',\n",
        "'feature_322': 'float16',\n",
        "'feature_323': 'float16',\n",
        "'feature_324': 'float16',\n",
        "'feature_325': 'float16',\n",
        "'feature_326': 'float16',\n",
        "'feature_327': 'float16',\n",
        "'feature_328': 'float16',\n",
        "'feature_329': 'float16',\n",
        "'feature_330': 'float16',\n",
        "'feature_331': 'float16',\n",
        "'feature_332': 'float16',\n",
        "'feature_333': 'float16',\n",
        "'feature_334': 'float16',\n",
        "'feature_335': 'float16',\n",
        "'feature_336': 'float16',\n",
        "'feature_337': 'float16',\n",
        "'feature_338': 'float16',\n",
        "'feature_339': 'float16',\n",
        "'feature_340': 'float16',\n",
        "'feature_341': 'float16',\n",
        "'feature_342': 'float16',\n",
        "'feature_344': 'float16',\n",
        "'feature_345': 'float16',\n",
        "'feature_346': 'float16',\n",
        "'feature_348': 'float16',\n",
        "'feature_349': 'float16',\n",
        "'feature_350': 'float16',\n",
        "'feature_351': 'float16',\n",
        "'feature_352': 'float16',\n",
        "'feature_353': 'float16',\n",
        "'feature_354': 'float16',\n",
        "'feature_355': 'float16',\n",
        "'feature_356': 'float16',\n",
        "'feature_357': 'float16',\n",
        "'feature_358': 'float16',\n",
        "'feature_359': 'float16',\n",
        "'feature_360': 'float16',\n",
        "'feature_361': 'float16',\n",
        "'feature_362': 'float16',\n",
        "'feature_363': 'float16',\n",
        "'feature_364': 'float16',\n",
        "'feature_365': 'float16',\n",
        "'feature_366': 'float16',\n",
        "'feature_367': 'float16',\n",
        "'feature_368': 'float16',\n",
        "'feature_369': 'float16',\n",
        "'feature_370': 'float16',\n",
        "'feature_371': 'float16',\n",
        "'feature_372': 'float16',\n",
        "'feature_373': 'float16',\n",
        "'feature_374': 'float16',\n",
        "'feature_375': 'float16',\n",
        "'feature_376': 'float16',\n",
        "'feature_377': 'float16',\n",
        "'feature_378': 'float16',\n",
        "'feature_379': 'float16',\n",
        "'feature_380': 'float16',\n",
        "'feature_381': 'float16',\n",
        "'feature_383': 'float16',\n",
        "'feature_384': 'float16',\n",
        "'feature_385': 'float16',\n",
        "'feature_386': 'float16',\n",
        "'feature_387': 'float16',\n",
        "'feature_388': 'float16',\n",
        "'feature_389': 'float16',\n",
        "'feature_390': 'float16',\n",
        "'feature_391': 'float16',\n",
        "'feature_393': 'float16',\n",
        "'feature_394': 'float16',\n",
        "'feature_395': 'float16',\n",
        "'feature_396': 'float16',\n",
        "'feature_397': 'float16',\n",
        "'feature_398': 'float16',\n",
        "'feature_399': 'float16',\n",
        "'feature_400': 'float16',\n",
        "'feature_401': 'float16',\n",
        "'feature_402': 'float16',\n",
        "'feature_403': 'float16',\n",
        "'feature_404': 'float16',\n",
        "'feature_407': 'float16',\n",
        "'feature_408': 'float16',\n",
        "'feature_409': 'float16',\n",
        "'feature_410': 'float16',\n",
        "'feature_411': 'float16',\n",
        "'feature_412': 'float16',\n",
        "'feature_413': 'float16',\n",
        "'feature_414': 'float16',\n",
        "'feature_415': 'float16',\n",
        "'feature_416': 'float16',\n",
        "'feature_417': 'float16',\n",
        "'feature_418': 'float16',\n",
        "'feature_419': 'float16',\n",
        "'feature_420': 'float16',\n",
        "'feature_421': 'float16',\n",
        "'feature_422': 'float16',\n",
        "'feature_424': 'float16',\n",
        "'feature_425': 'float16',\n",
        "'feature_426': 'float16',\n",
        "'feature_427': 'float16',\n",
        "'feature_428': 'float16',\n",
        "'feature_429': 'float16',\n",
        "'feature_430': 'float16',\n",
        "'feature_431': 'float16',\n",
        "'feature_432': 'float16',\n",
        "'feature_433': 'float16',\n",
        "'feature_435': 'float16',\n",
        "'feature_436': 'float16',\n",
        "'feature_437': 'float16',\n",
        "'feature_438': 'float16',\n",
        "'feature_439': 'float16',\n",
        "'feature_440': 'float16',\n",
        "'feature_441': 'float16',\n",
        "'feature_442': 'float16',\n",
        "'feature_443': 'float16',\n",
        "'feature_444': 'float16',\n",
        "'feature_445': 'float16',\n",
        "'feature_447': 'float16',\n",
        "'feature_448': 'float16',\n",
        "'feature_450': 'float16',\n",
        "'feature_451': 'float16',\n",
        "'feature_452': 'float16',\n",
        "'feature_453': 'float16',\n",
        "'feature_454': 'float16',\n",
        "'feature_455': 'float16',\n",
        "'feature_456': 'float16',\n",
        "'feature_457': 'float16',\n",
        "'feature_458': 'float16',\n",
        "'feature_460': 'float16',\n",
        "'feature_461': 'float16',\n",
        "'feature_462': 'float16',\n",
        "'feature_463': 'float16',\n",
        "'feature_464': 'float16',\n",
        "'feature_465': 'float16',\n",
        "'feature_466': 'float16',\n",
        "'feature_467': 'float16',\n",
        "'feature_468': 'float16',\n",
        "'feature_469': 'float16',\n",
        "'feature_470': 'float16',\n",
        "'feature_471': 'float16',\n",
        "'feature_472': 'float16',\n",
        "'feature_473': 'float16',\n",
        "'feature_474': 'float16',\n",
        "'feature_475': 'float16',\n",
        "'feature_476': 'float16',\n",
        "'feature_477': 'float16',\n",
        "'feature_478': 'float16',\n",
        "'feature_479': 'float16',\n",
        "'feature_480': 'float16',\n",
        "'feature_481': 'float16',\n",
        "'feature_482': 'float16',\n",
        "'feature_483': 'float16',\n",
        "'feature_484': 'float16',\n",
        "'feature_485': 'float16',\n",
        "'feature_486': 'float16',\n",
        "'feature_487': 'float16',\n",
        "'feature_488': 'float16',\n",
        "'feature_489': 'float16',\n",
        "'feature_491': 'float16',\n",
        "'feature_493': 'float16',\n",
        "'feature_494': 'float16',\n",
        "'feature_495': 'float16',\n",
        "'feature_496': 'float16',\n",
        "'feature_497': 'float16',\n",
        "'feature_498': 'float16',\n",
        "'feature_499': 'float16',\n",
        "'feature_500': 'float16'\n",
        "}"
      ]
    },
    {
      "cell_type": "markdown",
      "metadata": {
        "id": "iDRxnkeUxADO"
      },
      "source": [
        "# UPLOAD DATA"
      ]
    },
    {
      "cell_type": "markdown",
      "source": [
        "Загружаем данные"
      ],
      "metadata": {
        "id": "O9u18laa2Jrs"
      }
    },
    {
      "cell_type": "code",
      "execution_count": null,
      "metadata": {
        "id": "RNl1YKD6xJLt"
      },
      "outputs": [],
      "source": [
        "train = pd.read_csv('train_1.csv', dtype=types_dict)"
      ]
    },
    {
      "cell_type": "code",
      "execution_count": null,
      "metadata": {
        "id": "e2x4UUVZxKxA"
      },
      "outputs": [],
      "source": [
        "for i in range(2, 11):\n",
        "    train = pd.concat([train, pd.read_csv(f'train_{i}.csv', dtype=types_dict)])"
      ]
    },
    {
      "cell_type": "markdown",
      "metadata": {
        "id": "ZIYNExATyO93"
      },
      "source": [
        "# DATA PREP"
      ]
    },
    {
      "cell_type": "markdown",
      "source": [
        "Применяем предобработку данных из ноутбука eda_and_data_prep"
      ],
      "metadata": {
        "id": "udQmCrbK2MLQ"
      }
    },
    {
      "cell_type": "code",
      "execution_count": null,
      "metadata": {
        "id": "vzJwoJGcxM7y"
      },
      "outputs": [],
      "source": [
        "train = train.drop(['smpl', 'id'], axis=1)"
      ]
    },
    {
      "cell_type": "code",
      "execution_count": null,
      "metadata": {
        "colab": {
          "base_uri": "https://localhost:8080/",
          "height": 424
        },
        "id": "tyXRnhWMxQs3",
        "outputId": "9460b1ee-70a5-44d8-d043-ad1343ae1697"
      },
      "outputs": [
        {
          "data": {
            "text/html": [
              "<div>\n",
              "<style scoped>\n",
              "    .dataframe tbody tr th:only-of-type {\n",
              "        vertical-align: middle;\n",
              "    }\n",
              "\n",
              "    .dataframe tbody tr th {\n",
              "        vertical-align: top;\n",
              "    }\n",
              "\n",
              "    .dataframe thead th {\n",
              "        text-align: right;\n",
              "    }\n",
              "</style>\n",
              "<table border=\"1\" class=\"dataframe\">\n",
              "  <thead>\n",
              "    <tr style=\"text-align: right;\">\n",
              "      <th></th>\n",
              "      <th>target</th>\n",
              "      <th>feature_1</th>\n",
              "      <th>feature_2</th>\n",
              "      <th>feature_3</th>\n",
              "      <th>feature_4</th>\n",
              "      <th>feature_5</th>\n",
              "      <th>feature_6</th>\n",
              "      <th>feature_7</th>\n",
              "      <th>feature_8</th>\n",
              "      <th>feature_9</th>\n",
              "      <th>...</th>\n",
              "      <th>feature_491</th>\n",
              "      <th>feature_492</th>\n",
              "      <th>feature_493</th>\n",
              "      <th>feature_494</th>\n",
              "      <th>feature_495</th>\n",
              "      <th>feature_496</th>\n",
              "      <th>feature_497</th>\n",
              "      <th>feature_498</th>\n",
              "      <th>feature_499</th>\n",
              "      <th>feature_500</th>\n",
              "    </tr>\n",
              "  </thead>\n",
              "  <tbody>\n",
              "    <tr>\n",
              "      <th>0</th>\n",
              "      <td>0</td>\n",
              "      <td>0.372314</td>\n",
              "      <td>1.500977</td>\n",
              "      <td>2.132812</td>\n",
              "      <td>-0.957520</td>\n",
              "      <td>-0.119019</td>\n",
              "      <td>0.122925</td>\n",
              "      <td>0.151001</td>\n",
              "      <td>0.506836</td>\n",
              "      <td>-0.839355</td>\n",
              "      <td>...</td>\n",
              "      <td>-1.254883</td>\n",
              "      <td>0</td>\n",
              "      <td>0.803711</td>\n",
              "      <td>-1.017578</td>\n",
              "      <td>-0.520996</td>\n",
              "      <td>0.646973</td>\n",
              "      <td>1.454102</td>\n",
              "      <td>-0.833496</td>\n",
              "      <td>0.184082</td>\n",
              "      <td>-0.438232</td>\n",
              "    </tr>\n",
              "    <tr>\n",
              "      <th>1</th>\n",
              "      <td>0</td>\n",
              "      <td>0.382324</td>\n",
              "      <td>0.962402</td>\n",
              "      <td>-0.192505</td>\n",
              "      <td>-1.019531</td>\n",
              "      <td>-1.330078</td>\n",
              "      <td>-0.100159</td>\n",
              "      <td>-1.130859</td>\n",
              "      <td>-1.172852</td>\n",
              "      <td>-1.790039</td>\n",
              "      <td>...</td>\n",
              "      <td>-0.884277</td>\n",
              "      <td>0</td>\n",
              "      <td>-1.643555</td>\n",
              "      <td>-1.264648</td>\n",
              "      <td>-1.523438</td>\n",
              "      <td>0.604980</td>\n",
              "      <td>0.491943</td>\n",
              "      <td>-0.003685</td>\n",
              "      <td>0.469727</td>\n",
              "      <td>-1.094727</td>\n",
              "    </tr>\n",
              "    <tr>\n",
              "      <th>2</th>\n",
              "      <td>0</td>\n",
              "      <td>0.472412</td>\n",
              "      <td>-0.695312</td>\n",
              "      <td>0.538086</td>\n",
              "      <td>-0.032990</td>\n",
              "      <td>-0.364746</td>\n",
              "      <td>-0.441895</td>\n",
              "      <td>-0.035950</td>\n",
              "      <td>-0.921387</td>\n",
              "      <td>0.746582</td>\n",
              "      <td>...</td>\n",
              "      <td>-0.322754</td>\n",
              "      <td>0</td>\n",
              "      <td>-0.496826</td>\n",
              "      <td>-0.051941</td>\n",
              "      <td>0.743164</td>\n",
              "      <td>-1.395508</td>\n",
              "      <td>0.147949</td>\n",
              "      <td>-0.007553</td>\n",
              "      <td>-0.981445</td>\n",
              "      <td>0.270996</td>\n",
              "    </tr>\n",
              "    <tr>\n",
              "      <th>3</th>\n",
              "      <td>0</td>\n",
              "      <td>0.512207</td>\n",
              "      <td>-1.232422</td>\n",
              "      <td>0.555176</td>\n",
              "      <td>1.457031</td>\n",
              "      <td>1.435547</td>\n",
              "      <td>0.168579</td>\n",
              "      <td>-0.628906</td>\n",
              "      <td>0.249756</td>\n",
              "      <td>1.475586</td>\n",
              "      <td>...</td>\n",
              "      <td>0.976562</td>\n",
              "      <td>0</td>\n",
              "      <td>1.182617</td>\n",
              "      <td>-0.178711</td>\n",
              "      <td>1.467773</td>\n",
              "      <td>-0.791016</td>\n",
              "      <td>0.000645</td>\n",
              "      <td>0.674805</td>\n",
              "      <td>0.803223</td>\n",
              "      <td>1.037109</td>\n",
              "    </tr>\n",
              "    <tr>\n",
              "      <th>4</th>\n",
              "      <td>0</td>\n",
              "      <td>1.488281</td>\n",
              "      <td>-0.164429</td>\n",
              "      <td>-1.197266</td>\n",
              "      <td>1.548828</td>\n",
              "      <td>0.952637</td>\n",
              "      <td>1.144531</td>\n",
              "      <td>-0.963867</td>\n",
              "      <td>0.031891</td>\n",
              "      <td>1.262695</td>\n",
              "      <td>...</td>\n",
              "      <td>-1.655273</td>\n",
              "      <td>0</td>\n",
              "      <td>1.076172</td>\n",
              "      <td>-0.555664</td>\n",
              "      <td>1.249023</td>\n",
              "      <td>-0.485840</td>\n",
              "      <td>0.458740</td>\n",
              "      <td>-0.444580</td>\n",
              "      <td>-0.333740</td>\n",
              "      <td>0.380127</td>\n",
              "    </tr>\n",
              "    <tr>\n",
              "      <th>...</th>\n",
              "      <td>...</td>\n",
              "      <td>...</td>\n",
              "      <td>...</td>\n",
              "      <td>...</td>\n",
              "      <td>...</td>\n",
              "      <td>...</td>\n",
              "      <td>...</td>\n",
              "      <td>...</td>\n",
              "      <td>...</td>\n",
              "      <td>...</td>\n",
              "      <td>...</td>\n",
              "      <td>...</td>\n",
              "      <td>...</td>\n",
              "      <td>...</td>\n",
              "      <td>...</td>\n",
              "      <td>...</td>\n",
              "      <td>...</td>\n",
              "      <td>...</td>\n",
              "      <td>...</td>\n",
              "      <td>...</td>\n",
              "      <td>...</td>\n",
              "    </tr>\n",
              "    <tr>\n",
              "      <th>449049</th>\n",
              "      <td>1</td>\n",
              "      <td>-0.276367</td>\n",
              "      <td>-0.344482</td>\n",
              "      <td>0.609863</td>\n",
              "      <td>-0.214722</td>\n",
              "      <td>-0.345947</td>\n",
              "      <td>0.772461</td>\n",
              "      <td>-0.074585</td>\n",
              "      <td>2.414062</td>\n",
              "      <td>2.994141</td>\n",
              "      <td>...</td>\n",
              "      <td>2.000000</td>\n",
              "      <td>0</td>\n",
              "      <td>2.474609</td>\n",
              "      <td>1.364258</td>\n",
              "      <td>2.972656</td>\n",
              "      <td>1.421875</td>\n",
              "      <td>-0.688965</td>\n",
              "      <td>1.313477</td>\n",
              "      <td>0.201904</td>\n",
              "      <td>0.562988</td>\n",
              "    </tr>\n",
              "    <tr>\n",
              "      <th>449050</th>\n",
              "      <td>0</td>\n",
              "      <td>-0.270996</td>\n",
              "      <td>-1.203125</td>\n",
              "      <td>-0.068298</td>\n",
              "      <td>0.587891</td>\n",
              "      <td>0.373535</td>\n",
              "      <td>1.384766</td>\n",
              "      <td>-0.474854</td>\n",
              "      <td>1.772461</td>\n",
              "      <td>0.625000</td>\n",
              "      <td>...</td>\n",
              "      <td>0.808594</td>\n",
              "      <td>0</td>\n",
              "      <td>3.041016</td>\n",
              "      <td>0.568359</td>\n",
              "      <td>0.613281</td>\n",
              "      <td>-1.115234</td>\n",
              "      <td>2.103516</td>\n",
              "      <td>1.550781</td>\n",
              "      <td>-0.843262</td>\n",
              "      <td>-0.333740</td>\n",
              "    </tr>\n",
              "    <tr>\n",
              "      <th>449051</th>\n",
              "      <td>0</td>\n",
              "      <td>0.616211</td>\n",
              "      <td>-1.386719</td>\n",
              "      <td>1.023438</td>\n",
              "      <td>-1.549805</td>\n",
              "      <td>1.183594</td>\n",
              "      <td>3.136719</td>\n",
              "      <td>1.113281</td>\n",
              "      <td>3.097656</td>\n",
              "      <td>2.240234</td>\n",
              "      <td>...</td>\n",
              "      <td>3.128906</td>\n",
              "      <td>0</td>\n",
              "      <td>2.220703</td>\n",
              "      <td>-0.923340</td>\n",
              "      <td>2.207031</td>\n",
              "      <td>3.003906</td>\n",
              "      <td>0.151123</td>\n",
              "      <td>1.565430</td>\n",
              "      <td>-0.528809</td>\n",
              "      <td>-0.351562</td>\n",
              "    </tr>\n",
              "    <tr>\n",
              "      <th>449052</th>\n",
              "      <td>0</td>\n",
              "      <td>-2.146484</td>\n",
              "      <td>-1.831055</td>\n",
              "      <td>0.590820</td>\n",
              "      <td>0.657227</td>\n",
              "      <td>-1.164062</td>\n",
              "      <td>0.397461</td>\n",
              "      <td>0.155518</td>\n",
              "      <td>0.782715</td>\n",
              "      <td>-0.567383</td>\n",
              "      <td>...</td>\n",
              "      <td>1.198242</td>\n",
              "      <td>0</td>\n",
              "      <td>-0.649902</td>\n",
              "      <td>0.685059</td>\n",
              "      <td>-0.877441</td>\n",
              "      <td>-0.434326</td>\n",
              "      <td>-1.021484</td>\n",
              "      <td>-0.267090</td>\n",
              "      <td>-0.418457</td>\n",
              "      <td>-0.224731</td>\n",
              "    </tr>\n",
              "    <tr>\n",
              "      <th>449053</th>\n",
              "      <td>0</td>\n",
              "      <td>-1.234375</td>\n",
              "      <td>-0.114807</td>\n",
              "      <td>-0.029282</td>\n",
              "      <td>-0.603027</td>\n",
              "      <td>-0.322510</td>\n",
              "      <td>-0.583008</td>\n",
              "      <td>-0.504883</td>\n",
              "      <td>-0.690430</td>\n",
              "      <td>-0.759766</td>\n",
              "      <td>...</td>\n",
              "      <td>1.490234</td>\n",
              "      <td>0</td>\n",
              "      <td>0.820801</td>\n",
              "      <td>-1.223633</td>\n",
              "      <td>-1.052734</td>\n",
              "      <td>1.424805</td>\n",
              "      <td>0.794922</td>\n",
              "      <td>-1.684570</td>\n",
              "      <td>-0.432129</td>\n",
              "      <td>-0.189331</td>\n",
              "    </tr>\n",
              "  </tbody>\n",
              "</table>\n",
              "<p>4490468 rows × 501 columns</p>\n",
              "</div>"
            ],
            "text/plain": [
              "        target  feature_1  feature_2  feature_3  feature_4  feature_5  \\\n",
              "0            0   0.372314   1.500977   2.132812  -0.957520  -0.119019   \n",
              "1            0   0.382324   0.962402  -0.192505  -1.019531  -1.330078   \n",
              "2            0   0.472412  -0.695312   0.538086  -0.032990  -0.364746   \n",
              "3            0   0.512207  -1.232422   0.555176   1.457031   1.435547   \n",
              "4            0   1.488281  -0.164429  -1.197266   1.548828   0.952637   \n",
              "...        ...        ...        ...        ...        ...        ...   \n",
              "449049       1  -0.276367  -0.344482   0.609863  -0.214722  -0.345947   \n",
              "449050       0  -0.270996  -1.203125  -0.068298   0.587891   0.373535   \n",
              "449051       0   0.616211  -1.386719   1.023438  -1.549805   1.183594   \n",
              "449052       0  -2.146484  -1.831055   0.590820   0.657227  -1.164062   \n",
              "449053       0  -1.234375  -0.114807  -0.029282  -0.603027  -0.322510   \n",
              "\n",
              "        feature_6  feature_7  feature_8  feature_9  ...  feature_491  \\\n",
              "0        0.122925   0.151001   0.506836  -0.839355  ...    -1.254883   \n",
              "1       -0.100159  -1.130859  -1.172852  -1.790039  ...    -0.884277   \n",
              "2       -0.441895  -0.035950  -0.921387   0.746582  ...    -0.322754   \n",
              "3        0.168579  -0.628906   0.249756   1.475586  ...     0.976562   \n",
              "4        1.144531  -0.963867   0.031891   1.262695  ...    -1.655273   \n",
              "...           ...        ...        ...        ...  ...          ...   \n",
              "449049   0.772461  -0.074585   2.414062   2.994141  ...     2.000000   \n",
              "449050   1.384766  -0.474854   1.772461   0.625000  ...     0.808594   \n",
              "449051   3.136719   1.113281   3.097656   2.240234  ...     3.128906   \n",
              "449052   0.397461   0.155518   0.782715  -0.567383  ...     1.198242   \n",
              "449053  -0.583008  -0.504883  -0.690430  -0.759766  ...     1.490234   \n",
              "\n",
              "        feature_492  feature_493  feature_494  feature_495  feature_496  \\\n",
              "0                 0     0.803711    -1.017578    -0.520996     0.646973   \n",
              "1                 0    -1.643555    -1.264648    -1.523438     0.604980   \n",
              "2                 0    -0.496826    -0.051941     0.743164    -1.395508   \n",
              "3                 0     1.182617    -0.178711     1.467773    -0.791016   \n",
              "4                 0     1.076172    -0.555664     1.249023    -0.485840   \n",
              "...             ...          ...          ...          ...          ...   \n",
              "449049            0     2.474609     1.364258     2.972656     1.421875   \n",
              "449050            0     3.041016     0.568359     0.613281    -1.115234   \n",
              "449051            0     2.220703    -0.923340     2.207031     3.003906   \n",
              "449052            0    -0.649902     0.685059    -0.877441    -0.434326   \n",
              "449053            0     0.820801    -1.223633    -1.052734     1.424805   \n",
              "\n",
              "        feature_497  feature_498  feature_499  feature_500  \n",
              "0          1.454102    -0.833496     0.184082    -0.438232  \n",
              "1          0.491943    -0.003685     0.469727    -1.094727  \n",
              "2          0.147949    -0.007553    -0.981445     0.270996  \n",
              "3          0.000645     0.674805     0.803223     1.037109  \n",
              "4          0.458740    -0.444580    -0.333740     0.380127  \n",
              "...             ...          ...          ...          ...  \n",
              "449049    -0.688965     1.313477     0.201904     0.562988  \n",
              "449050     2.103516     1.550781    -0.843262    -0.333740  \n",
              "449051     0.151123     1.565430    -0.528809    -0.351562  \n",
              "449052    -1.021484    -0.267090    -0.418457    -0.224731  \n",
              "449053     0.794922    -1.684570    -0.432129    -0.189331  \n",
              "\n",
              "[4490468 rows x 501 columns]"
            ]
          },
          "execution_count": 14,
          "metadata": {},
          "output_type": "execute_result"
        }
      ],
      "source": [
        "train"
      ]
    },
    {
      "cell_type": "code",
      "execution_count": null,
      "metadata": {
        "colab": {
          "base_uri": "https://localhost:8080/"
        },
        "id": "5CYzuGiMxRIY",
        "outputId": "bbf6443a-6a06-4d4c-f13c-90d3883791e1"
      },
      "outputs": [
        {
          "name": "stdout",
          "output_type": "stream",
          "text": [
            "<class 'pandas.core.frame.DataFrame'>\n",
            "Index: 4490468 entries, 0 to 449053\n",
            "Columns: 501 entries, target to feature_500\n",
            "dtypes: float16(465), int8(36)\n",
            "memory usage: 4.1 GB\n"
          ]
        }
      ],
      "source": [
        "train.info()"
      ]
    },
    {
      "cell_type": "code",
      "execution_count": null,
      "metadata": {
        "id": "0HzybSLUxbF8"
      },
      "outputs": [],
      "source": [
        "cat_features = ['feature_31','feature_61','feature_64','feature_80','feature_83','feature_92','feature_133','feature_143','feature_201','feature_209','feature_251','feature_253',\n",
        "                'feature_300','feature_343','feature_382','feature_406','feature_423','feature_446','feature_449','feature_459','feature_490']"
      ]
    },
    {
      "cell_type": "code",
      "execution_count": null,
      "metadata": {
        "id": "WhhOfHoHJsyo"
      },
      "outputs": [],
      "source": [
        "cols_to_drop = ['feature_17', 'feature_21', 'feature_27', 'feature_166', 'feature_173', 'feature_299', 'feature_424', 'feature_434', 'feature_191'] # duplicates and high corrillated"
      ]
    },
    {
      "cell_type": "code",
      "execution_count": null,
      "metadata": {
        "id": "BGvfS5G8xn-6"
      },
      "outputs": [],
      "source": [
        "train = train.drop(cols_to_drop, axis=1)"
      ]
    },
    {
      "cell_type": "code",
      "execution_count": null,
      "metadata": {
        "id": "kYWMfu1Jxpc6"
      },
      "outputs": [],
      "source": [
        "def preprocess_83(x):\n",
        "    if x in [31, 14, 33, 27, 34, 15, 17, 32, 36, 30, 18]:\n",
        "        return -1\n",
        "    else:\n",
        "        return x\n",
        "\n",
        "def preprocess_133(x):\n",
        "    if x in [11, 15, 8, 17, 19, 9, 7, 10, 12, 6, 16, 18, 20]:\n",
        "        return -1\n",
        "    else:\n",
        "        return x\n",
        "\n",
        "def preprocess_201(x):\n",
        "    if x in [22, 14]:\n",
        "        return -1\n",
        "    else:\n",
        "        return x\n",
        "\n",
        "def preprocess_251(x):\n",
        "    if x in [17, 7, 20, 13, 22, 11, 19, 10, 21, 12, 16, 24, 15, 23]:\n",
        "        return -1\n",
        "    else:\n",
        "        return x\n",
        "\n",
        "def preprocess_253(x):\n",
        "    if x in [31, 35, 34, 29, 27, 26, 19, 25, 32, 30]:\n",
        "        return -1\n",
        "    else:\n",
        "        return x\n",
        "\n",
        "def preprocess_343(x):\n",
        "    if x in [29, 14, 15, 30, 32, 25, 31, 28, 21, 34, 6, 11, 13]:\n",
        "        return -1\n",
        "    else:\n",
        "        return x\n",
        "\n",
        "def preprocess_382(x):\n",
        "    if x in [12, 11]:\n",
        "        return -1\n",
        "    else:\n",
        "        return x\n",
        "\n",
        "def preprocess_406(x):\n",
        "    if x in [10, 14, 17, 11, 12, 15, 3]:\n",
        "        return -1\n",
        "    else:\n",
        "        return x\n",
        "\n",
        "def preprocess_423(x):\n",
        "    if x in [11, 14, 12, 13, 10, 8, 18, 6, 15, 17, 9]:\n",
        "        return -1\n",
        "    else:\n",
        "        return x\n",
        "\n",
        "def preprocess_449(x):\n",
        "    if x in [15, 14, 12, 13, 10]:\n",
        "        return -1\n",
        "    else:\n",
        "        return x\n",
        "\n",
        "def preprocess_490(x):\n",
        "    if x in [58, 53, 55]:\n",
        "        return -1\n",
        "    else:\n",
        "        return x"
      ]
    },
    {
      "cell_type": "code",
      "execution_count": null,
      "metadata": {
        "id": "3zMxki_fx-sb"
      },
      "outputs": [],
      "source": [
        "y = train['target']\n",
        "train = train.drop('target', axis=1)"
      ]
    },
    {
      "cell_type": "code",
      "execution_count": null,
      "metadata": {
        "id": "v3dlNiCLyADc"
      },
      "outputs": [],
      "source": [
        "train['feature_83'] =  train['feature_83'].apply(preprocess_83).astype('int8')\n",
        "train['feature_133'] = train['feature_133'].apply(preprocess_133).astype('int8')\n",
        "train['feature_201'] = train['feature_201'].apply(preprocess_201).astype('int8')\n",
        "train['feature_251'] = train['feature_251'].apply(preprocess_251).astype('int8')\n",
        "train['feature_253'] = train['feature_253'].apply(preprocess_253).astype('int8')\n",
        "train['feature_343'] = train['feature_343'].apply(preprocess_343).astype('int8')\n",
        "train['feature_382'] = train['feature_382'].apply(preprocess_382).astype('int8')\n",
        "train['feature_406'] = train['feature_406'].apply(preprocess_406).astype('int8')\n",
        "train['feature_423'] = train['feature_423'].apply(preprocess_423).astype('int8')\n",
        "train['feature_449'] = train['feature_449'].apply(preprocess_449).astype('int8')\n",
        "train['feature_490'] = train['feature_490'].apply(preprocess_490).astype('int8')"
      ]
    },
    {
      "cell_type": "code",
      "execution_count": null,
      "metadata": {
        "colab": {
          "base_uri": "https://localhost:8080/"
        },
        "id": "9pqGa78cyDIG",
        "outputId": "4cd62ae5-c0aa-4ae0-8fec-4dd35eaf3035"
      },
      "outputs": [
        {
          "data": {
            "text/plain": [
              "(4490468, 491)"
            ]
          },
          "execution_count": 22,
          "metadata": {},
          "output_type": "execute_result"
        }
      ],
      "source": [
        "train.shape"
      ]
    },
    {
      "cell_type": "code",
      "execution_count": null,
      "metadata": {
        "id": "wFQGIVoWyBej"
      },
      "outputs": [],
      "source": [
        "train = pd.get_dummies(train, columns=cat_features, drop_first=True)"
      ]
    },
    {
      "cell_type": "code",
      "execution_count": null,
      "metadata": {
        "colab": {
          "base_uri": "https://localhost:8080/"
        },
        "id": "E12ro_AVyDpm",
        "outputId": "8f7f6ef2-9290-43bd-8d7c-da5bd761c2b1"
      },
      "outputs": [
        {
          "data": {
            "text/plain": [
              "(4490468, 725)"
            ]
          },
          "execution_count": 24,
          "metadata": {},
          "output_type": "execute_result"
        }
      ],
      "source": [
        "train.shape"
      ]
    },
    {
      "cell_type": "code",
      "execution_count": null,
      "metadata": {
        "id": "IY139C9cxDhV"
      },
      "outputs": [],
      "source": [
        "no_cols = ['feature_83_4', 'feature_83_7', 'feature_83_8', 'feature_83_12', 'feature_83_13', 'feature_83_20', 'feature_83_22',\n",
        "           'feature_83_24', 'feature_133_4', 'feature_251_3', 'feature_251_5', 'feature_251_6', 'feature_251_9', 'feature_343_3',\n",
        "           'feature_343_8', 'feature_343_12', 'feature_343_18', 'feature_343_19', 'feature_406_6', 'feature_446_7', 'feature_459_2']"
      ]
    },
    {
      "cell_type": "code",
      "execution_count": null,
      "metadata": {
        "id": "XEotC6z8x9EH"
      },
      "outputs": [],
      "source": [
        "zero_weight_cols = ['feature_490_24','feature_253_9','feature_83_1','feature_406_4','feature_64_3','feature_31_2','feature_253_21','feature_490_50',\n",
        "                    'feature_61_2','feature_253_17','feature_253_11','feature_490_43','feature_490_40','feature_64_2','feature_300_5','feature_490_18',\n",
        "                    'feature_83_35','feature_446_3','feature_382_4','feature_382_6','feature_446_6','feature_446_4','feature_423_5','feature_423_4',\n",
        "                    'feature_382_8','feature_406_9','feature_382_9','feature_406_7','feature_251_4','feature_449_7','feature_490_15','feature_343_23',\n",
        "                    'feature_490_14','feature_92_8','feature_22','feature_92_9','feature_490_5','feature_343_35','feature_490_4','feature_92_12',\n",
        "                    'feature_343_26','feature_343_33','feature_143_5']"
      ]
    },
    {
      "cell_type": "code",
      "execution_count": null,
      "metadata": {
        "id": "fjvUK-xPx9EH"
      },
      "outputs": [],
      "source": [
        "weak_cols = ['feature_490_13','feature_490_46','feature_201_5','feature_490_48','feature_201_15','feature_490_35','feature_343_17',\n",
        "             'feature_490_54','feature_251_8','feature_61_3','feature_406_5','feature_253_12','feature_343_27','feature_92_11',\n",
        "             'feature_382_13','feature_253_18','feature_83_10','feature_253_20','feature_201_10','feature_143_7','feature_343_24',\n",
        "             'feature_201_18','feature_83_6','feature_253_23','feature_253_13','feature_253_22','feature_253_28','feature_92_13',\n",
        "             'feature_406_16','feature_253_7','feature_201_8','feature_343_16','feature_83_19','feature_83_28']"
      ]
    },
    {
      "cell_type": "code",
      "execution_count": null,
      "metadata": {
        "id": "E_KewJZV9MVd"
      },
      "outputs": [],
      "source": [
        "train = train.drop(no_cols+zero_weight_cols+weak_cols, axis=1)"
      ]
    },
    {
      "cell_type": "code",
      "execution_count": null,
      "metadata": {
        "colab": {
          "base_uri": "https://localhost:8080/"
        },
        "id": "SzoR0bYpuNME",
        "outputId": "0ade6421-0d0d-4bb6-81f3-08934c1bf571"
      },
      "outputs": [
        {
          "data": {
            "text/plain": [
              "(4490468, 627)"
            ]
          },
          "execution_count": 29,
          "metadata": {},
          "output_type": "execute_result"
        }
      ],
      "source": [
        "train.shape"
      ]
    },
    {
      "cell_type": "code",
      "execution_count": null,
      "metadata": {
        "id": "W-pzcgub-hp7"
      },
      "outputs": [],
      "source": [
        "x_train, x_valid, y_train, y_valid = train_test_split(train, y, test_size=0.1, stratify=y, random_state=42)"
      ]
    },
    {
      "cell_type": "code",
      "execution_count": null,
      "metadata": {
        "id": "-UOhPl0Nx9EH"
      },
      "outputs": [],
      "source": [
        "train_pool = Pool(data=x_train, label=y_train)\n",
        "valid_pool = Pool(data=x_valid, label=y_valid)"
      ]
    },
    {
      "cell_type": "code",
      "execution_count": null,
      "metadata": {
        "id": "TC7zOjNIx9EH"
      },
      "outputs": [],
      "source": [
        "full_data_pool = Pool(data=train, label=y)"
      ]
    },
    {
      "cell_type": "markdown",
      "metadata": {
        "id": "WUu0gDycWpeI"
      },
      "source": [
        "# MODELING"
      ]
    },
    {
      "cell_type": "markdown",
      "source": [
        "Подберем лучшую модель с помощью optuna"
      ],
      "metadata": {
        "id": "WBQAGFDU2QWY"
      }
    },
    {
      "cell_type": "code",
      "execution_count": null,
      "metadata": {
        "id": "2DSG1vXBx9EH"
      },
      "outputs": [],
      "source": [
        "n_rounds = []\n",
        "def objective(trial):\n",
        "    space = {\n",
        "        \"learning_rate\": trial.suggest_float(\"learning_rate\", 0.01, 0.04, log=True),\n",
        "        \"depth\": trial.suggest_int(\"depth\", 11, 13),\n",
        "        \"l2_leaf_reg\": trial.suggest_float(\"l2_leaf_reg\", 0, 100, step=1),\n",
        "        \"min_data_in_leaf\": trial.suggest_int(\"min_data_in_leaf\", 500, 6000),\n",
        "        \"objective\": \"Logloss\",\n",
        "        'iterations': 32768,\n",
        "        'eval_metric': 'AUC',\n",
        "        'early_stopping_rounds': 30,\n",
        "        'random_state': 666,\n",
        "        'verbose': False,\n",
        "        'task_type': 'GPU'\n",
        "    }\n",
        "\n",
        "    model = CatBoostClassifier(**space,\n",
        "                per_float_feature_quantization=['41:border_count=1024','396:border_count=1024','364:border_count=1024'])\n",
        "\n",
        "    model.fit(train_pool, eval_set=valid_pool)\n",
        "    n_rounds.append(model.best_iteration_)\n",
        "\n",
        "    res = model.best_score_['validation']['AUC']\n",
        "    return res"
      ]
    },
    {
      "cell_type": "code",
      "execution_count": null,
      "metadata": {
        "scrolled": true,
        "id": "Q3dpDZW4x9EI",
        "outputId": "ad470124-9c6e-49b5-cbde-fa603b30efd1"
      },
      "outputs": [
        {
          "name": "stderr",
          "output_type": "stream",
          "text": [
            "[I 2024-11-09 16:05:40,537] A new study created in memory with name: no-name-bab44aed-57a4-4a17-a1ca-500332226b11\n",
            "Default metric period is 5 because AUC is/are not implemented for GPU\n",
            "[I 2024-11-09 16:32:02,998] Trial 0 finished with value: 0.8642334342002869 and parameters: {'learning_rate': 0.026406154958457, 'depth': 13, 'l2_leaf_reg': 68.0, 'min_data_in_leaf': 4503}. Best is trial 0 with value: 0.8642334342002869.\n",
            "Default metric period is 5 because AUC is/are not implemented for GPU\n",
            "[I 2024-11-09 16:39:23,486] Trial 1 finished with value: 0.8617404699325562 and parameters: {'learning_rate': 0.037396828233921084, 'depth': 11, 'l2_leaf_reg': 41.0, 'min_data_in_leaf': 768}. Best is trial 0 with value: 0.8642334342002869.\n",
            "Default metric period is 5 because AUC is/are not implemented for GPU\n",
            "[I 2024-11-09 16:39:49,661] Trial 2 finished with value: 0.8192185759544373 and parameters: {'learning_rate': 0.011485845992452866, 'depth': 12, 'l2_leaf_reg': 20.0, 'min_data_in_leaf': 4593}. Best is trial 0 with value: 0.8642334342002869.\n",
            "Default metric period is 5 because AUC is/are not implemented for GPU\n",
            "[I 2024-11-09 16:40:18,182] Trial 3 finished with value: 0.822282075881958 and parameters: {'learning_rate': 0.013065696254253568, 'depth': 13, 'l2_leaf_reg': 29.0, 'min_data_in_leaf': 4760}. Best is trial 0 with value: 0.8642334342002869.\n",
            "Default metric period is 5 because AUC is/are not implemented for GPU\n",
            "[I 2024-11-09 16:40:39,690] Trial 4 finished with value: 0.8186539113521576 and parameters: {'learning_rate': 0.010071074935550008, 'depth': 11, 'l2_leaf_reg': 11.0, 'min_data_in_leaf': 1862}. Best is trial 0 with value: 0.8642334342002869.\n",
            "Default metric period is 5 because AUC is/are not implemented for GPU\n",
            "[I 2024-11-09 16:41:13,799] Trial 5 finished with value: 0.8204124569892883 and parameters: {'learning_rate': 0.010327367843065252, 'depth': 13, 'l2_leaf_reg': 34.0, 'min_data_in_leaf': 1586}. Best is trial 0 with value: 0.8642334342002869.\n",
            "Default metric period is 5 because AUC is/are not implemented for GPU\n",
            "[I 2024-11-09 17:00:41,382] Trial 6 finished with value: 0.8639979958534241 and parameters: {'learning_rate': 0.03526798584230131, 'depth': 13, 'l2_leaf_reg': 53.0, 'min_data_in_leaf': 1925}. Best is trial 0 with value: 0.8642334342002869.\n",
            "Default metric period is 5 because AUC is/are not implemented for GPU\n",
            "[I 2024-11-09 17:17:25,833] Trial 7 finished with value: 0.8631450831890106 and parameters: {'learning_rate': 0.022464161889169536, 'depth': 11, 'l2_leaf_reg': 89.0, 'min_data_in_leaf': 3945}. Best is trial 0 with value: 0.8642334342002869.\n",
            "Default metric period is 5 because AUC is/are not implemented for GPU\n",
            "[I 2024-11-09 17:31:11,566] Trial 8 finished with value: 0.8635205030441284 and parameters: {'learning_rate': 0.031117957767262172, 'depth': 12, 'l2_leaf_reg': 42.0, 'min_data_in_leaf': 4587}. Best is trial 0 with value: 0.8642334342002869.\n",
            "Default metric period is 5 because AUC is/are not implemented for GPU\n",
            "[I 2024-11-09 17:31:32,524] Trial 9 finished with value: 0.8179900348186493 and parameters: {'learning_rate': 0.016692415786096034, 'depth': 11, 'l2_leaf_reg': 78.0, 'min_data_in_leaf': 1706}. Best is trial 0 with value: 0.8642334342002869.\n",
            "Default metric period is 5 because AUC is/are not implemented for GPU\n",
            "[I 2024-11-09 17:59:52,300] Trial 10 finished with value: 0.8644260466098785 and parameters: {'learning_rate': 0.025367247836152525, 'depth': 13, 'l2_leaf_reg': 66.0, 'min_data_in_leaf': 5730}. Best is trial 10 with value: 0.8644260466098785.\n",
            "Default metric period is 5 because AUC is/are not implemented for GPU\n",
            "[I 2024-11-09 18:24:30,283] Trial 11 finished with value: 0.8637705445289612 and parameters: {'learning_rate': 0.024939516170302666, 'depth': 13, 'l2_leaf_reg': 66.0, 'min_data_in_leaf': 5733}. Best is trial 10 with value: 0.8644260466098785.\n",
            "Default metric period is 5 because AUC is/are not implemented for GPU\n",
            "[I 2024-11-09 18:42:56,399] Trial 12 finished with value: 0.8638798594474792 and parameters: {'learning_rate': 0.02674781684634603, 'depth': 12, 'l2_leaf_reg': 63.0, 'min_data_in_leaf': 5862}. Best is trial 10 with value: 0.8644260466098785.\n",
            "Default metric period is 5 because AUC is/are not implemented for GPU\n",
            "[I 2024-11-09 19:15:46,495] Trial 13 finished with value: 0.8635412454605103 and parameters: {'learning_rate': 0.018190232041586818, 'depth': 13, 'l2_leaf_reg': 96.0, 'min_data_in_leaf': 3084}. Best is trial 10 with value: 0.8644260466098785.\n",
            "Default metric period is 5 because AUC is/are not implemented for GPU\n",
            "[I 2024-11-09 19:37:42,975] Trial 14 finished with value: 0.863961786031723 and parameters: {'learning_rate': 0.02939751836836255, 'depth': 13, 'l2_leaf_reg': 76.0, 'min_data_in_leaf': 5266}. Best is trial 10 with value: 0.8644260466098785.\n",
            "Default metric period is 5 because AUC is/are not implemented for GPU\n",
            "[I 2024-11-09 19:38:03,800] Trial 15 finished with value: 0.8186319470405579 and parameters: {'learning_rate': 0.020839876203326713, 'depth': 12, 'l2_leaf_reg': 60.0, 'min_data_in_leaf': 3354}. Best is trial 10 with value: 0.8644260466098785.\n",
            "Default metric period is 5 because AUC is/are not implemented for GPU\n",
            "[I 2024-11-09 20:30:44,995] Trial 16 finished with value: 0.8654729425907135 and parameters: {'learning_rate': 0.015795105281243844, 'depth': 13, 'l2_leaf_reg': 78.0, 'min_data_in_leaf': 3958}. Best is trial 16 with value: 0.8654729425907135.\n",
            "Default metric period is 5 because AUC is/are not implemented for GPU\n",
            "[I 2024-11-09 20:31:08,327] Trial 17 finished with value: 0.8184548020362854 and parameters: {'learning_rate': 0.015099200148620682, 'depth': 12, 'l2_leaf_reg': 84.0, 'min_data_in_leaf': 2886}. Best is trial 16 with value: 0.8654729425907135.\n",
            "Default metric period is 5 because AUC is/are not implemented for GPU\n",
            "[I 2024-11-09 21:18:37,874] Trial 18 finished with value: 0.8645064234733582 and parameters: {'learning_rate': 0.01502040663108284, 'depth': 13, 'l2_leaf_reg': 98.0, 'min_data_in_leaf': 3760}. Best is trial 16 with value: 0.8654729425907135.\n",
            "Default metric period is 5 because AUC is/are not implemented for GPU\n",
            "[I 2024-11-09 21:42:03,327] Trial 19 finished with value: 0.8621326088905334 and parameters: {'learning_rate': 0.013721585098903168, 'depth': 12, 'l2_leaf_reg': 99.0, 'min_data_in_leaf': 3798}. Best is trial 16 with value: 0.8654729425907135.\n",
            "Default metric period is 5 because AUC is/are not implemented for GPU\n",
            "[W 2024-11-09 22:00:33,069] Trial 20 failed with parameters: {'learning_rate': 0.01846400180925797, 'depth': 13, 'l2_leaf_reg': 83.0, 'min_data_in_leaf': 2519} because of the following error: KeyboardInterrupt('').\n",
            "Traceback (most recent call last):\n",
            "  File \"C:\\Users\\Egor\\anaconda3\\Lib\\site-packages\\optuna\\study\\_optimize.py\", line 197, in _run_trial\n",
            "    value_or_values = func(trial)\n",
            "                      ^^^^^^^^^^^\n",
            "  File \"C:\\Temp\\ipykernel_5548\\1007681668.py\", line 20, in objective\n",
            "    model.fit(train_pool, eval_set=valid_pool)\n",
            "  File \"C:\\Users\\Egor\\anaconda3\\Lib\\site-packages\\catboost\\core.py\", line 5245, in fit\n",
            "    self._fit(X, y, cat_features, text_features, embedding_features, None, graph, sample_weight, None, None, None, None, baseline, use_best_model,\n",
            "  File \"C:\\Users\\Egor\\anaconda3\\Lib\\site-packages\\catboost\\core.py\", line 2410, in _fit\n",
            "    self._train(\n",
            "  File \"C:\\Users\\Egor\\anaconda3\\Lib\\site-packages\\catboost\\core.py\", line 1790, in _train\n",
            "    self._object._train(train_pool, test_pool, params, allow_clear_pool, init_model._object if init_model else None)\n",
            "  File \"_catboost.pyx\", line 5017, in _catboost._CatBoost._train\n",
            "  File \"_catboost.pyx\", line 5066, in _catboost._CatBoost._train\n",
            "KeyboardInterrupt\n",
            "[W 2024-11-09 22:00:33,079] Trial 20 failed with value None.\n"
          ]
        },
        {
          "ename": "KeyboardInterrupt",
          "evalue": "",
          "output_type": "error",
          "traceback": [
            "\u001b[1;31m---------------------------------------------------------------------------\u001b[0m",
            "\u001b[1;31mKeyboardInterrupt\u001b[0m                         Traceback (most recent call last)",
            "Cell \u001b[1;32mIn[57], line 3\u001b[0m\n\u001b[0;32m      1\u001b[0m tpe_sampler \u001b[38;5;241m=\u001b[39m optuna\u001b[38;5;241m.\u001b[39msamplers\u001b[38;5;241m.\u001b[39mTPESampler(seed\u001b[38;5;241m=\u001b[39m\u001b[38;5;241m666\u001b[39m)\n\u001b[0;32m      2\u001b[0m study \u001b[38;5;241m=\u001b[39m optuna\u001b[38;5;241m.\u001b[39mcreate_study(direction\u001b[38;5;241m=\u001b[39m\u001b[38;5;124m'\u001b[39m\u001b[38;5;124mmaximize\u001b[39m\u001b[38;5;124m'\u001b[39m, sampler\u001b[38;5;241m=\u001b[39mtpe_sampler)\n\u001b[1;32m----> 3\u001b[0m study\u001b[38;5;241m.\u001b[39moptimize(objective, n_trials\u001b[38;5;241m=\u001b[39m\u001b[38;5;241m100\u001b[39m)\n",
            "File \u001b[1;32m~\\anaconda3\\Lib\\site-packages\\optuna\\study\\study.py:475\u001b[0m, in \u001b[0;36mStudy.optimize\u001b[1;34m(self, func, n_trials, timeout, n_jobs, catch, callbacks, gc_after_trial, show_progress_bar)\u001b[0m\n\u001b[0;32m    373\u001b[0m \u001b[38;5;28;01mdef\u001b[39;00m \u001b[38;5;21moptimize\u001b[39m(\n\u001b[0;32m    374\u001b[0m     \u001b[38;5;28mself\u001b[39m,\n\u001b[0;32m    375\u001b[0m     func: ObjectiveFuncType,\n\u001b[1;32m   (...)\u001b[0m\n\u001b[0;32m    382\u001b[0m     show_progress_bar: \u001b[38;5;28mbool\u001b[39m \u001b[38;5;241m=\u001b[39m \u001b[38;5;28;01mFalse\u001b[39;00m,\n\u001b[0;32m    383\u001b[0m ) \u001b[38;5;241m-\u001b[39m\u001b[38;5;241m>\u001b[39m \u001b[38;5;28;01mNone\u001b[39;00m:\n\u001b[0;32m    384\u001b[0m \u001b[38;5;250m    \u001b[39m\u001b[38;5;124;03m\"\"\"Optimize an objective function.\u001b[39;00m\n\u001b[0;32m    385\u001b[0m \n\u001b[0;32m    386\u001b[0m \u001b[38;5;124;03m    Optimization is done by choosing a suitable set of hyperparameter values from a given\u001b[39;00m\n\u001b[1;32m   (...)\u001b[0m\n\u001b[0;32m    473\u001b[0m \u001b[38;5;124;03m            If nested invocation of this method occurs.\u001b[39;00m\n\u001b[0;32m    474\u001b[0m \u001b[38;5;124;03m    \"\"\"\u001b[39;00m\n\u001b[1;32m--> 475\u001b[0m     _optimize(\n\u001b[0;32m    476\u001b[0m         study\u001b[38;5;241m=\u001b[39m\u001b[38;5;28mself\u001b[39m,\n\u001b[0;32m    477\u001b[0m         func\u001b[38;5;241m=\u001b[39mfunc,\n\u001b[0;32m    478\u001b[0m         n_trials\u001b[38;5;241m=\u001b[39mn_trials,\n\u001b[0;32m    479\u001b[0m         timeout\u001b[38;5;241m=\u001b[39mtimeout,\n\u001b[0;32m    480\u001b[0m         n_jobs\u001b[38;5;241m=\u001b[39mn_jobs,\n\u001b[0;32m    481\u001b[0m         catch\u001b[38;5;241m=\u001b[39m\u001b[38;5;28mtuple\u001b[39m(catch) \u001b[38;5;28;01mif\u001b[39;00m \u001b[38;5;28misinstance\u001b[39m(catch, Iterable) \u001b[38;5;28;01melse\u001b[39;00m (catch,),\n\u001b[0;32m    482\u001b[0m         callbacks\u001b[38;5;241m=\u001b[39mcallbacks,\n\u001b[0;32m    483\u001b[0m         gc_after_trial\u001b[38;5;241m=\u001b[39mgc_after_trial,\n\u001b[0;32m    484\u001b[0m         show_progress_bar\u001b[38;5;241m=\u001b[39mshow_progress_bar,\n\u001b[0;32m    485\u001b[0m     )\n",
            "File \u001b[1;32m~\\anaconda3\\Lib\\site-packages\\optuna\\study\\_optimize.py:63\u001b[0m, in \u001b[0;36m_optimize\u001b[1;34m(study, func, n_trials, timeout, n_jobs, catch, callbacks, gc_after_trial, show_progress_bar)\u001b[0m\n\u001b[0;32m     61\u001b[0m \u001b[38;5;28;01mtry\u001b[39;00m:\n\u001b[0;32m     62\u001b[0m     \u001b[38;5;28;01mif\u001b[39;00m n_jobs \u001b[38;5;241m==\u001b[39m \u001b[38;5;241m1\u001b[39m:\n\u001b[1;32m---> 63\u001b[0m         _optimize_sequential(\n\u001b[0;32m     64\u001b[0m             study,\n\u001b[0;32m     65\u001b[0m             func,\n\u001b[0;32m     66\u001b[0m             n_trials,\n\u001b[0;32m     67\u001b[0m             timeout,\n\u001b[0;32m     68\u001b[0m             catch,\n\u001b[0;32m     69\u001b[0m             callbacks,\n\u001b[0;32m     70\u001b[0m             gc_after_trial,\n\u001b[0;32m     71\u001b[0m             reseed_sampler_rng\u001b[38;5;241m=\u001b[39m\u001b[38;5;28;01mFalse\u001b[39;00m,\n\u001b[0;32m     72\u001b[0m             time_start\u001b[38;5;241m=\u001b[39m\u001b[38;5;28;01mNone\u001b[39;00m,\n\u001b[0;32m     73\u001b[0m             progress_bar\u001b[38;5;241m=\u001b[39mprogress_bar,\n\u001b[0;32m     74\u001b[0m         )\n\u001b[0;32m     75\u001b[0m     \u001b[38;5;28;01melse\u001b[39;00m:\n\u001b[0;32m     76\u001b[0m         \u001b[38;5;28;01mif\u001b[39;00m n_jobs \u001b[38;5;241m==\u001b[39m \u001b[38;5;241m-\u001b[39m\u001b[38;5;241m1\u001b[39m:\n",
            "File \u001b[1;32m~\\anaconda3\\Lib\\site-packages\\optuna\\study\\_optimize.py:160\u001b[0m, in \u001b[0;36m_optimize_sequential\u001b[1;34m(study, func, n_trials, timeout, catch, callbacks, gc_after_trial, reseed_sampler_rng, time_start, progress_bar)\u001b[0m\n\u001b[0;32m    157\u001b[0m         \u001b[38;5;28;01mbreak\u001b[39;00m\n\u001b[0;32m    159\u001b[0m \u001b[38;5;28;01mtry\u001b[39;00m:\n\u001b[1;32m--> 160\u001b[0m     frozen_trial \u001b[38;5;241m=\u001b[39m _run_trial(study, func, catch)\n\u001b[0;32m    161\u001b[0m \u001b[38;5;28;01mfinally\u001b[39;00m:\n\u001b[0;32m    162\u001b[0m     \u001b[38;5;66;03m# The following line mitigates memory problems that can be occurred in some\u001b[39;00m\n\u001b[0;32m    163\u001b[0m     \u001b[38;5;66;03m# environments (e.g., services that use computing containers such as GitHub Actions).\u001b[39;00m\n\u001b[0;32m    164\u001b[0m     \u001b[38;5;66;03m# Please refer to the following PR for further details:\u001b[39;00m\n\u001b[0;32m    165\u001b[0m     \u001b[38;5;66;03m# https://github.com/optuna/optuna/pull/325.\u001b[39;00m\n\u001b[0;32m    166\u001b[0m     \u001b[38;5;28;01mif\u001b[39;00m gc_after_trial:\n",
            "File \u001b[1;32m~\\anaconda3\\Lib\\site-packages\\optuna\\study\\_optimize.py:248\u001b[0m, in \u001b[0;36m_run_trial\u001b[1;34m(study, func, catch)\u001b[0m\n\u001b[0;32m    241\u001b[0m         \u001b[38;5;28;01massert\u001b[39;00m \u001b[38;5;28;01mFalse\u001b[39;00m, \u001b[38;5;124m\"\u001b[39m\u001b[38;5;124mShould not reach.\u001b[39m\u001b[38;5;124m\"\u001b[39m\n\u001b[0;32m    243\u001b[0m \u001b[38;5;28;01mif\u001b[39;00m (\n\u001b[0;32m    244\u001b[0m     frozen_trial\u001b[38;5;241m.\u001b[39mstate \u001b[38;5;241m==\u001b[39m TrialState\u001b[38;5;241m.\u001b[39mFAIL\n\u001b[0;32m    245\u001b[0m     \u001b[38;5;129;01mand\u001b[39;00m func_err \u001b[38;5;129;01mis\u001b[39;00m \u001b[38;5;129;01mnot\u001b[39;00m \u001b[38;5;28;01mNone\u001b[39;00m\n\u001b[0;32m    246\u001b[0m     \u001b[38;5;129;01mand\u001b[39;00m \u001b[38;5;129;01mnot\u001b[39;00m \u001b[38;5;28misinstance\u001b[39m(func_err, catch)\n\u001b[0;32m    247\u001b[0m ):\n\u001b[1;32m--> 248\u001b[0m     \u001b[38;5;28;01mraise\u001b[39;00m func_err\n\u001b[0;32m    249\u001b[0m \u001b[38;5;28;01mreturn\u001b[39;00m frozen_trial\n",
            "File \u001b[1;32m~\\anaconda3\\Lib\\site-packages\\optuna\\study\\_optimize.py:197\u001b[0m, in \u001b[0;36m_run_trial\u001b[1;34m(study, func, catch)\u001b[0m\n\u001b[0;32m    195\u001b[0m \u001b[38;5;28;01mwith\u001b[39;00m get_heartbeat_thread(trial\u001b[38;5;241m.\u001b[39m_trial_id, study\u001b[38;5;241m.\u001b[39m_storage):\n\u001b[0;32m    196\u001b[0m     \u001b[38;5;28;01mtry\u001b[39;00m:\n\u001b[1;32m--> 197\u001b[0m         value_or_values \u001b[38;5;241m=\u001b[39m func(trial)\n\u001b[0;32m    198\u001b[0m     \u001b[38;5;28;01mexcept\u001b[39;00m exceptions\u001b[38;5;241m.\u001b[39mTrialPruned \u001b[38;5;28;01mas\u001b[39;00m e:\n\u001b[0;32m    199\u001b[0m         \u001b[38;5;66;03m# TODO(mamu): Handle multi-objective cases.\u001b[39;00m\n\u001b[0;32m    200\u001b[0m         state \u001b[38;5;241m=\u001b[39m TrialState\u001b[38;5;241m.\u001b[39mPRUNED\n",
            "Cell \u001b[1;32mIn[55], line 20\u001b[0m, in \u001b[0;36mobjective\u001b[1;34m(trial)\u001b[0m\n\u001b[0;32m      3\u001b[0m space \u001b[38;5;241m=\u001b[39m {\n\u001b[0;32m      4\u001b[0m     \u001b[38;5;124m\"\u001b[39m\u001b[38;5;124mlearning_rate\u001b[39m\u001b[38;5;124m\"\u001b[39m: trial\u001b[38;5;241m.\u001b[39msuggest_float(\u001b[38;5;124m\"\u001b[39m\u001b[38;5;124mlearning_rate\u001b[39m\u001b[38;5;124m\"\u001b[39m, \u001b[38;5;241m0.01\u001b[39m, \u001b[38;5;241m0.04\u001b[39m, log\u001b[38;5;241m=\u001b[39m\u001b[38;5;28;01mTrue\u001b[39;00m),\n\u001b[0;32m      5\u001b[0m     \u001b[38;5;124m\"\u001b[39m\u001b[38;5;124mdepth\u001b[39m\u001b[38;5;124m\"\u001b[39m: trial\u001b[38;5;241m.\u001b[39msuggest_int(\u001b[38;5;124m\"\u001b[39m\u001b[38;5;124mdepth\u001b[39m\u001b[38;5;124m\"\u001b[39m, \u001b[38;5;241m11\u001b[39m, \u001b[38;5;241m13\u001b[39m),\n\u001b[1;32m   (...)\u001b[0m\n\u001b[0;32m     14\u001b[0m     \u001b[38;5;124m'\u001b[39m\u001b[38;5;124mtask_type\u001b[39m\u001b[38;5;124m'\u001b[39m: \u001b[38;5;124m'\u001b[39m\u001b[38;5;124mGPU\u001b[39m\u001b[38;5;124m'\u001b[39m\n\u001b[0;32m     15\u001b[0m }\n\u001b[0;32m     17\u001b[0m model \u001b[38;5;241m=\u001b[39m CatBoostClassifier(\u001b[38;5;241m*\u001b[39m\u001b[38;5;241m*\u001b[39mspace,\n\u001b[0;32m     18\u001b[0m             per_float_feature_quantization\u001b[38;5;241m=\u001b[39m[\u001b[38;5;124m'\u001b[39m\u001b[38;5;124m41:border_count=1024\u001b[39m\u001b[38;5;124m'\u001b[39m,\u001b[38;5;124m'\u001b[39m\u001b[38;5;124m396:border_count=1024\u001b[39m\u001b[38;5;124m'\u001b[39m,\u001b[38;5;124m'\u001b[39m\u001b[38;5;124m364:border_count=1024\u001b[39m\u001b[38;5;124m'\u001b[39m])\n\u001b[1;32m---> 20\u001b[0m model\u001b[38;5;241m.\u001b[39mfit(train_pool, eval_set\u001b[38;5;241m=\u001b[39mvalid_pool)\n\u001b[0;32m     21\u001b[0m n_rounds\u001b[38;5;241m.\u001b[39mappend(model\u001b[38;5;241m.\u001b[39mbest_iteration_)\n\u001b[0;32m     23\u001b[0m res \u001b[38;5;241m=\u001b[39m model\u001b[38;5;241m.\u001b[39mbest_score_[\u001b[38;5;124m'\u001b[39m\u001b[38;5;124mvalidation\u001b[39m\u001b[38;5;124m'\u001b[39m][\u001b[38;5;124m'\u001b[39m\u001b[38;5;124mAUC\u001b[39m\u001b[38;5;124m'\u001b[39m]\n",
            "File \u001b[1;32m~\\anaconda3\\Lib\\site-packages\\catboost\\core.py:5245\u001b[0m, in \u001b[0;36mCatBoostClassifier.fit\u001b[1;34m(self, X, y, cat_features, text_features, embedding_features, graph, sample_weight, baseline, use_best_model, eval_set, verbose, logging_level, plot, plot_file, column_description, verbose_eval, metric_period, silent, early_stopping_rounds, save_snapshot, snapshot_file, snapshot_interval, init_model, callbacks, log_cout, log_cerr)\u001b[0m\n\u001b[0;32m   5242\u001b[0m \u001b[38;5;28;01mif\u001b[39;00m \u001b[38;5;124m'\u001b[39m\u001b[38;5;124mloss_function\u001b[39m\u001b[38;5;124m'\u001b[39m \u001b[38;5;129;01min\u001b[39;00m params:\n\u001b[0;32m   5243\u001b[0m     CatBoostClassifier\u001b[38;5;241m.\u001b[39m_check_is_compatible_loss(params[\u001b[38;5;124m'\u001b[39m\u001b[38;5;124mloss_function\u001b[39m\u001b[38;5;124m'\u001b[39m])\n\u001b[1;32m-> 5245\u001b[0m \u001b[38;5;28mself\u001b[39m\u001b[38;5;241m.\u001b[39m_fit(X, y, cat_features, text_features, embedding_features, \u001b[38;5;28;01mNone\u001b[39;00m, graph, sample_weight, \u001b[38;5;28;01mNone\u001b[39;00m, \u001b[38;5;28;01mNone\u001b[39;00m, \u001b[38;5;28;01mNone\u001b[39;00m, \u001b[38;5;28;01mNone\u001b[39;00m, baseline, use_best_model,\n\u001b[0;32m   5246\u001b[0m           eval_set, verbose, logging_level, plot, plot_file, column_description, verbose_eval, metric_period,\n\u001b[0;32m   5247\u001b[0m           silent, early_stopping_rounds, save_snapshot, snapshot_file, snapshot_interval, init_model, callbacks, log_cout, log_cerr)\n\u001b[0;32m   5248\u001b[0m \u001b[38;5;28;01mreturn\u001b[39;00m \u001b[38;5;28mself\u001b[39m\n",
            "File \u001b[1;32m~\\anaconda3\\Lib\\site-packages\\catboost\\core.py:2410\u001b[0m, in \u001b[0;36mCatBoost._fit\u001b[1;34m(self, X, y, cat_features, text_features, embedding_features, pairs, graph, sample_weight, group_id, group_weight, subgroup_id, pairs_weight, baseline, use_best_model, eval_set, verbose, logging_level, plot, plot_file, column_description, verbose_eval, metric_period, silent, early_stopping_rounds, save_snapshot, snapshot_file, snapshot_interval, init_model, callbacks, log_cout, log_cerr)\u001b[0m\n\u001b[0;32m   2407\u001b[0m allow_clear_pool \u001b[38;5;241m=\u001b[39m train_params[\u001b[38;5;124m\"\u001b[39m\u001b[38;5;124mallow_clear_pool\u001b[39m\u001b[38;5;124m\"\u001b[39m]\n\u001b[0;32m   2409\u001b[0m \u001b[38;5;28;01mwith\u001b[39;00m plot_wrapper(plot, plot_file, \u001b[38;5;124m'\u001b[39m\u001b[38;5;124mTraining plots\u001b[39m\u001b[38;5;124m'\u001b[39m, [_get_train_dir(\u001b[38;5;28mself\u001b[39m\u001b[38;5;241m.\u001b[39mget_params())]):\n\u001b[1;32m-> 2410\u001b[0m     \u001b[38;5;28mself\u001b[39m\u001b[38;5;241m.\u001b[39m_train(\n\u001b[0;32m   2411\u001b[0m         train_pool,\n\u001b[0;32m   2412\u001b[0m         train_params[\u001b[38;5;124m\"\u001b[39m\u001b[38;5;124meval_sets\u001b[39m\u001b[38;5;124m\"\u001b[39m],\n\u001b[0;32m   2413\u001b[0m         params,\n\u001b[0;32m   2414\u001b[0m         allow_clear_pool,\n\u001b[0;32m   2415\u001b[0m         train_params[\u001b[38;5;124m\"\u001b[39m\u001b[38;5;124minit_model\u001b[39m\u001b[38;5;124m\"\u001b[39m]\n\u001b[0;32m   2416\u001b[0m     )\n\u001b[0;32m   2418\u001b[0m \u001b[38;5;66;03m# Have property feature_importance possibly set\u001b[39;00m\n\u001b[0;32m   2419\u001b[0m loss \u001b[38;5;241m=\u001b[39m \u001b[38;5;28mself\u001b[39m\u001b[38;5;241m.\u001b[39m_object\u001b[38;5;241m.\u001b[39m_get_loss_function_name()\n",
            "File \u001b[1;32m~\\anaconda3\\Lib\\site-packages\\catboost\\core.py:1790\u001b[0m, in \u001b[0;36m_CatBoostBase._train\u001b[1;34m(self, train_pool, test_pool, params, allow_clear_pool, init_model)\u001b[0m\n\u001b[0;32m   1789\u001b[0m \u001b[38;5;28;01mdef\u001b[39;00m \u001b[38;5;21m_train\u001b[39m(\u001b[38;5;28mself\u001b[39m, train_pool, test_pool, params, allow_clear_pool, init_model):\n\u001b[1;32m-> 1790\u001b[0m     \u001b[38;5;28mself\u001b[39m\u001b[38;5;241m.\u001b[39m_object\u001b[38;5;241m.\u001b[39m_train(train_pool, test_pool, params, allow_clear_pool, init_model\u001b[38;5;241m.\u001b[39m_object \u001b[38;5;28;01mif\u001b[39;00m init_model \u001b[38;5;28;01melse\u001b[39;00m \u001b[38;5;28;01mNone\u001b[39;00m)\n\u001b[0;32m   1791\u001b[0m     \u001b[38;5;28mself\u001b[39m\u001b[38;5;241m.\u001b[39m_set_trained_model_attributes()\n",
            "File \u001b[1;32m_catboost.pyx:5017\u001b[0m, in \u001b[0;36m_catboost._CatBoost._train\u001b[1;34m()\u001b[0m\n",
            "File \u001b[1;32m_catboost.pyx:5066\u001b[0m, in \u001b[0;36m_catboost._CatBoost._train\u001b[1;34m()\u001b[0m\n",
            "\u001b[1;31mKeyboardInterrupt\u001b[0m: "
          ]
        }
      ],
      "source": [
        "tpe_sampler = optuna.samplers.TPESampler(seed=666)\n",
        "study = optuna.create_study(direction='maximize', sampler=tpe_sampler)\n",
        "study.optimize(objective, n_trials=100)"
      ]
    },
    {
      "cell_type": "code",
      "execution_count": null,
      "metadata": {
        "id": "vRkIRYjXx9EI"
      },
      "outputs": [],
      "source": [
        "best_params = study.best_params"
      ]
    },
    {
      "cell_type": "code",
      "execution_count": null,
      "metadata": {
        "id": "LytQ5-fox9EI"
      },
      "outputs": [],
      "source": [
        "best_params['iterations'] = n_rounds[16] + 1"
      ]
    },
    {
      "cell_type": "code",
      "execution_count": null,
      "metadata": {
        "id": "Xt_wrx9qx9EI",
        "outputId": "999ebfc0-ac84-4af4-b62c-69fafe193512"
      },
      "outputs": [
        {
          "data": {
            "text/plain": [
              "{'learning_rate': 0.015795105281243844,\n",
              " 'depth': 13,\n",
              " 'l2_leaf_reg': 78.0,\n",
              " 'min_data_in_leaf': 3958,\n",
              " 'iterations': 8911}"
            ]
          },
          "execution_count": 91,
          "metadata": {},
          "output_type": "execute_result"
        }
      ],
      "source": [
        "best_params"
      ]
    },
    {
      "cell_type": "markdown",
      "source": [
        "Обучим лучшую конфигурацию на всех данных"
      ],
      "metadata": {
        "id": "--kC-Imf2S2F"
      }
    },
    {
      "cell_type": "code",
      "execution_count": null,
      "metadata": {
        "id": "4WTsbJCCx9EI"
      },
      "outputs": [],
      "source": [
        "model = CatBoostClassifier(**best_params, random_state=666, verbose=1000, eval_metric='AUC', objective='Logloss', task_type='GPU',\n",
        "                           per_float_feature_quantization=['41:border_count=1024','396:border_count=1024','364:border_count=1024'])"
      ]
    },
    {
      "cell_type": "code",
      "execution_count": null,
      "metadata": {
        "id": "wyVzaeDsx9EI",
        "outputId": "d36f38a0-0c7e-4569-c21a-58e70fa90aa4"
      },
      "outputs": [
        {
          "name": "stderr",
          "output_type": "stream",
          "text": [
            "Default metric period is 5 because AUC is/are not implemented for GPU\n"
          ]
        },
        {
          "name": "stdout",
          "output_type": "stream",
          "text": [
            "0:\ttotal: 337ms\tremaining: 50m 5s\n",
            "1000:\ttotal: 6m\tremaining: 47m 31s\n",
            "2000:\ttotal: 11m 58s\tremaining: 41m 19s\n",
            "3000:\ttotal: 17m 59s\tremaining: 35m 26s\n",
            "4000:\ttotal: 24m 3s\tremaining: 29m 31s\n",
            "5000:\ttotal: 30m 9s\tremaining: 23m 34s\n",
            "6000:\ttotal: 36m 37s\tremaining: 17m 45s\n",
            "7000:\ttotal: 42m 53s\tremaining: 11m 42s\n",
            "8000:\ttotal: 49m 4s\tremaining: 5m 34s\n",
            "8910:\ttotal: 54m 47s\tremaining: 0us\n"
          ]
        },
        {
          "data": {
            "text/plain": [
              "<catboost.core.CatBoostClassifier at 0x1d13c20410>"
            ]
          },
          "execution_count": 95,
          "metadata": {},
          "output_type": "execute_result"
        }
      ],
      "source": [
        "model.fit(full_data_pool)"
      ]
    },
    {
      "cell_type": "markdown",
      "metadata": {
        "id": "18dP7TrbyREl"
      },
      "source": [
        "# UPLOAD TEST AND PREDICT"
      ]
    },
    {
      "cell_type": "markdown",
      "source": [
        "Загрузим тестовые данные и сделаем сабмит"
      ],
      "metadata": {
        "id": "g9UNiFrr2W_j"
      }
    },
    {
      "cell_type": "code",
      "execution_count": null,
      "metadata": {
        "id": "gbuKg_5eSjXx"
      },
      "outputs": [],
      "source": [
        "test = pd.read_csv('test_1.csv', dtype=types_dict)"
      ]
    },
    {
      "cell_type": "code",
      "source": [
        "for i in range(2, 11):\n",
        "    test = pd.concat([test, pd.read_csv(f'test_{i}.csv', dtype=types_dict)])"
      ],
      "metadata": {
        "id": "pbiN7RfGymC_"
      },
      "execution_count": null,
      "outputs": []
    },
    {
      "cell_type": "code",
      "execution_count": null,
      "metadata": {
        "id": "EAegNFaQS3GJ"
      },
      "outputs": [],
      "source": [
        "submit = test[['id']]"
      ]
    },
    {
      "cell_type": "code",
      "execution_count": null,
      "metadata": {
        "id": "KmQMfmWRS8O6"
      },
      "outputs": [],
      "source": [
        "test['feature_83'] =  test['feature_83'].apply(preprocess_83).astype('int8')\n",
        "test['feature_133'] = test['feature_133'].apply(preprocess_133).astype('int8')\n",
        "test['feature_201'] = test['feature_201'].apply(preprocess_201).astype('int8')\n",
        "test['feature_251'] = test['feature_251'].apply(preprocess_251).astype('int8')\n",
        "test['feature_253'] = test['feature_253'].apply(preprocess_253).astype('int8')\n",
        "test['feature_343'] = test['feature_343'].apply(preprocess_343).astype('int8')\n",
        "test['feature_382'] = test['feature_382'].apply(preprocess_382).astype('int8')\n",
        "test['feature_406'] = test['feature_406'].apply(preprocess_406).astype('int8')\n",
        "test['feature_423'] = test['feature_423'].apply(preprocess_423).astype('int8')\n",
        "test['feature_449'] = test['feature_449'].apply(preprocess_449).astype('int8')\n",
        "test['feature_490'] = test['feature_490'].apply(preprocess_490).astype('int8')"
      ]
    },
    {
      "cell_type": "code",
      "execution_count": null,
      "metadata": {
        "id": "29b8m15GS_Tw"
      },
      "outputs": [],
      "source": [
        "test = pd.get_dummies(test, columns=cat_features, drop_first=True)"
      ]
    },
    {
      "cell_type": "code",
      "execution_count": null,
      "metadata": {
        "id": "dfzo_2zSTErU"
      },
      "outputs": [],
      "source": [
        "submit['target'] = model.predict_proba(test[x_valid.columns])[:, 1]"
      ]
    },
    {
      "cell_type": "code",
      "execution_count": null,
      "metadata": {
        "colab": {
          "base_uri": "https://localhost:8080/",
          "height": 423
        },
        "id": "Lgic_OwfUoFu",
        "outputId": "d29ab13d-1af5-4a95-82fe-7e4eca5a4a65"
      },
      "outputs": [
        {
          "data": {
            "text/html": [
              "<div>\n",
              "<style scoped>\n",
              "    .dataframe tbody tr th:only-of-type {\n",
              "        vertical-align: middle;\n",
              "    }\n",
              "\n",
              "    .dataframe tbody tr th {\n",
              "        vertical-align: top;\n",
              "    }\n",
              "\n",
              "    .dataframe thead th {\n",
              "        text-align: right;\n",
              "    }\n",
              "</style>\n",
              "<table border=\"1\" class=\"dataframe\">\n",
              "  <thead>\n",
              "    <tr style=\"text-align: right;\">\n",
              "      <th></th>\n",
              "      <th>id</th>\n",
              "      <th>target</th>\n",
              "    </tr>\n",
              "  </thead>\n",
              "  <tbody>\n",
              "    <tr>\n",
              "      <th>0</th>\n",
              "      <td>4490468</td>\n",
              "      <td>0.010694</td>\n",
              "    </tr>\n",
              "    <tr>\n",
              "      <th>1</th>\n",
              "      <td>4490469</td>\n",
              "      <td>0.008120</td>\n",
              "    </tr>\n",
              "    <tr>\n",
              "      <th>2</th>\n",
              "      <td>4490470</td>\n",
              "      <td>0.013523</td>\n",
              "    </tr>\n",
              "    <tr>\n",
              "      <th>3</th>\n",
              "      <td>4490471</td>\n",
              "      <td>0.117551</td>\n",
              "    </tr>\n",
              "    <tr>\n",
              "      <th>4</th>\n",
              "      <td>4490472</td>\n",
              "      <td>0.407733</td>\n",
              "    </tr>\n",
              "    <tr>\n",
              "      <th>...</th>\n",
              "      <td>...</td>\n",
              "      <td>...</td>\n",
              "    </tr>\n",
              "    <tr>\n",
              "      <th>509527</th>\n",
              "      <td>4999995</td>\n",
              "      <td>0.080105</td>\n",
              "    </tr>\n",
              "    <tr>\n",
              "      <th>509528</th>\n",
              "      <td>4999996</td>\n",
              "      <td>0.010839</td>\n",
              "    </tr>\n",
              "    <tr>\n",
              "      <th>509529</th>\n",
              "      <td>4999997</td>\n",
              "      <td>0.025132</td>\n",
              "    </tr>\n",
              "    <tr>\n",
              "      <th>509530</th>\n",
              "      <td>4999998</td>\n",
              "      <td>0.035854</td>\n",
              "    </tr>\n",
              "    <tr>\n",
              "      <th>509531</th>\n",
              "      <td>4999999</td>\n",
              "      <td>0.011627</td>\n",
              "    </tr>\n",
              "  </tbody>\n",
              "</table>\n",
              "<p>509532 rows × 2 columns</p>\n",
              "</div>"
            ],
            "text/plain": [
              "             id    target\n",
              "0       4490468  0.010694\n",
              "1       4490469  0.008120\n",
              "2       4490470  0.013523\n",
              "3       4490471  0.117551\n",
              "4       4490472  0.407733\n",
              "...         ...       ...\n",
              "509527  4999995  0.080105\n",
              "509528  4999996  0.010839\n",
              "509529  4999997  0.025132\n",
              "509530  4999998  0.035854\n",
              "509531  4999999  0.011627\n",
              "\n",
              "[509532 rows x 2 columns]"
            ]
          },
          "execution_count": 107,
          "metadata": {},
          "output_type": "execute_result"
        }
      ],
      "source": [
        "submit"
      ]
    },
    {
      "cell_type": "code",
      "execution_count": null,
      "metadata": {
        "id": "UFS0cg9TUree"
      },
      "outputs": [],
      "source": [
        "submit.to_csv('catboost_tunned_09_11_2024_13_depth.csv', index=False)"
      ]
    },
    {
      "cell_type": "markdown",
      "source": [
        "# GENERATING PREDS ON TRAIN DATA"
      ],
      "metadata": {
        "id": "gJFgeLh0ydjS"
      }
    },
    {
      "cell_type": "markdown",
      "source": [
        "Сохраним предсказания модели по всем обучающим данным для стекинга"
      ],
      "metadata": {
        "id": "DGJhseIp2cQE"
      }
    },
    {
      "cell_type": "code",
      "execution_count": null,
      "metadata": {
        "id": "kvz4wcQcx9EI"
      },
      "outputs": [],
      "source": [
        "train = train.reset_index(drop=True)"
      ]
    },
    {
      "cell_type": "code",
      "execution_count": null,
      "metadata": {
        "id": "HF-fukP0x9EI"
      },
      "outputs": [],
      "source": [
        "train['id'] = train.index"
      ]
    },
    {
      "cell_type": "code",
      "execution_count": null,
      "metadata": {
        "id": "jpkHaRSUx9EJ",
        "outputId": "490acbb7-7a48-4c06-aa1f-175566da3a63"
      },
      "outputs": [
        {
          "name": "stderr",
          "output_type": "stream",
          "text": [
            "Default metric period is 5 because AUC is/are not implemented for GPU\n"
          ]
        },
        {
          "name": "stdout",
          "output_type": "stream",
          "text": [
            "0:\ttotal: 341ms\tremaining: 50m 37s\n",
            "1000:\ttotal: 5m 25s\tremaining: 42m 51s\n",
            "2000:\ttotal: 10m 52s\tremaining: 37m 34s\n",
            "3000:\ttotal: 16m 21s\tremaining: 32m 12s\n",
            "4000:\ttotal: 21m 51s\tremaining: 26m 49s\n",
            "5000:\ttotal: 27m 23s\tremaining: 21m 25s\n",
            "6000:\ttotal: 32m 58s\tremaining: 15m 59s\n",
            "7000:\ttotal: 38m 37s\tremaining: 10m 32s\n",
            "8000:\ttotal: 44m 18s\tremaining: 5m 2s\n",
            "8910:\ttotal: 49m 28s\tremaining: 0us\n",
            "Fold 1:\n",
            "best_iteration: None, validation roc auc: 0.8632530882598113\n"
          ]
        },
        {
          "name": "stderr",
          "output_type": "stream",
          "text": [
            "C:\\Temp\\ipykernel_5548\\1171971212.py:28: FutureWarning: The behavior of DataFrame concatenation with empty or all-NA entries is deprecated. In a future version, this will no longer exclude empty or all-NA columns when determining the result dtypes. To retain the old behavior, exclude the relevant entries before the concat operation.\n",
            "  cat_boost_preds = pd.concat([cat_boost_preds, scored_sample])\n",
            "Default metric period is 5 because AUC is/are not implemented for GPU\n"
          ]
        },
        {
          "name": "stdout",
          "output_type": "stream",
          "text": [
            "0:\ttotal: 214ms\tremaining: 31m 43s\n",
            "1000:\ttotal: 5m 27s\tremaining: 43m 4s\n",
            "2000:\ttotal: 10m 58s\tremaining: 37m 52s\n",
            "3000:\ttotal: 16m 31s\tremaining: 32m 33s\n",
            "4000:\ttotal: 22m 9s\tremaining: 27m 10s\n",
            "5000:\ttotal: 27m 49s\tremaining: 21m 45s\n",
            "6000:\ttotal: 33m 26s\tremaining: 16m 12s\n",
            "7000:\ttotal: 38m 58s\tremaining: 10m 37s\n",
            "8000:\ttotal: 44m 32s\tremaining: 5m 3s\n",
            "8910:\ttotal: 49m 38s\tremaining: 0us\n",
            "Fold 2:\n",
            "best_iteration: None, validation roc auc: 0.8637066036875847\n"
          ]
        },
        {
          "name": "stderr",
          "output_type": "stream",
          "text": [
            "Default metric period is 5 because AUC is/are not implemented for GPU\n"
          ]
        },
        {
          "name": "stdout",
          "output_type": "stream",
          "text": [
            "0:\ttotal: 308ms\tremaining: 45m 45s\n",
            "1000:\ttotal: 5m 24s\tremaining: 42m 41s\n",
            "2000:\ttotal: 10m 50s\tremaining: 37m 27s\n",
            "3000:\ttotal: 16m 19s\tremaining: 32m 9s\n",
            "4000:\ttotal: 21m 51s\tremaining: 26m 49s\n",
            "5000:\ttotal: 27m 24s\tremaining: 21m 25s\n",
            "6000:\ttotal: 32m 57s\tremaining: 15m 58s\n",
            "7000:\ttotal: 38m 34s\tremaining: 10m 31s\n",
            "8000:\ttotal: 44m 12s\tremaining: 5m 1s\n",
            "8910:\ttotal: 49m 18s\tremaining: 0us\n",
            "Fold 3:\n",
            "best_iteration: None, validation roc auc: 0.8611133270654701\n"
          ]
        },
        {
          "name": "stderr",
          "output_type": "stream",
          "text": [
            "Default metric period is 5 because AUC is/are not implemented for GPU\n"
          ]
        },
        {
          "name": "stdout",
          "output_type": "stream",
          "text": [
            "0:\ttotal: 217ms\tremaining: 32m 12s\n",
            "1000:\ttotal: 5m 24s\tremaining: 42m 42s\n",
            "2000:\ttotal: 10m 51s\tremaining: 37m 31s\n",
            "3000:\ttotal: 16m 20s\tremaining: 32m 10s\n",
            "4000:\ttotal: 21m 47s\tremaining: 26m 44s\n",
            "5000:\ttotal: 27m 14s\tremaining: 21m 17s\n",
            "6000:\ttotal: 32m 40s\tremaining: 15m 50s\n",
            "7000:\ttotal: 38m 12s\tremaining: 10m 25s\n",
            "8000:\ttotal: 43m 47s\tremaining: 4m 58s\n",
            "8910:\ttotal: 48m 52s\tremaining: 0us\n",
            "Fold 4:\n",
            "best_iteration: None, validation roc auc: 0.8648427874651434\n"
          ]
        },
        {
          "name": "stderr",
          "output_type": "stream",
          "text": [
            "Default metric period is 5 because AUC is/are not implemented for GPU\n"
          ]
        },
        {
          "name": "stdout",
          "output_type": "stream",
          "text": [
            "0:\ttotal: 213ms\tremaining: 31m 37s\n",
            "1000:\ttotal: 5m 24s\tremaining: 42m 46s\n",
            "2000:\ttotal: 10m 52s\tremaining: 37m 31s\n",
            "3000:\ttotal: 16m 22s\tremaining: 32m 13s\n",
            "4000:\ttotal: 21m 52s\tremaining: 26m 51s\n",
            "5000:\ttotal: 27m 25s\tremaining: 21m 26s\n",
            "6000:\ttotal: 32m 57s\tremaining: 15m 58s\n",
            "7000:\ttotal: 38m 30s\tremaining: 10m 30s\n",
            "8000:\ttotal: 44m 7s\tremaining: 5m 1s\n",
            "8910:\ttotal: 49m 13s\tremaining: 0us\n",
            "Fold 5:\n",
            "best_iteration: None, validation roc auc: 0.8648171781012188\n",
            "Done!\n"
          ]
        }
      ],
      "source": [
        "cat_boost_preds = pd.DataFrame(columns=['id', 'catboost_86.11_proba'])\n",
        "\n",
        "skf = StratifiedKFold(n_splits=5, shuffle=True, random_state=42)\n",
        "\n",
        "for i, (train_index, valid_index) in enumerate(skf.split(train, y)):\n",
        "\n",
        "    x_train, y_train = train.iloc[train_index, :], y.iloc[train_index]\n",
        "    x_valid, y_valid = train.iloc[valid_index, :], y.iloc[valid_index]\n",
        "\n",
        "    scored_sample = x_valid[['id']]\n",
        "\n",
        "    x_train = x_train.drop('id', axis=1)\n",
        "    x_valid = x_valid.drop('id', axis=1)\n",
        "\n",
        "    model = CatBoostClassifier(**best_params, random_state=666, verbose=1000, eval_metric='AUC', objective='Logloss', task_type='GPU',\n",
        "                           per_float_feature_quantization=['41:border_count=1024','396:border_count=1024','364:border_count=1024'])\n",
        "\n",
        "    model.fit(x_train, y_train)\n",
        "\n",
        "    best_iter = model.best_iteration_\n",
        "    preds = model.predict_proba(x_valid)[:, 1]\n",
        "    valid_roc_auc = roc_auc_score(y_valid, preds)\n",
        "\n",
        "    print(f'Fold {i+1}:')\n",
        "    print(f'best_iteration: {best_iter}, validation roc auc: {valid_roc_auc}')\n",
        "\n",
        "    scored_sample['catboost_86.11_proba'] = preds\n",
        "    cat_boost_preds = pd.concat([cat_boost_preds, scored_sample])\n",
        "\n",
        "print('Done!')"
      ]
    },
    {
      "cell_type": "code",
      "execution_count": null,
      "metadata": {
        "id": "SsQij_ccx9EJ",
        "outputId": "337c6829-3312-4318-e5bc-de8620bc3754"
      },
      "outputs": [
        {
          "data": {
            "text/html": [
              "<div>\n",
              "<style scoped>\n",
              "    .dataframe tbody tr th:only-of-type {\n",
              "        vertical-align: middle;\n",
              "    }\n",
              "\n",
              "    .dataframe tbody tr th {\n",
              "        vertical-align: top;\n",
              "    }\n",
              "\n",
              "    .dataframe thead th {\n",
              "        text-align: right;\n",
              "    }\n",
              "</style>\n",
              "<table border=\"1\" class=\"dataframe\">\n",
              "  <thead>\n",
              "    <tr style=\"text-align: right;\">\n",
              "      <th></th>\n",
              "      <th>id</th>\n",
              "      <th>catboost_86.11_proba</th>\n",
              "    </tr>\n",
              "  </thead>\n",
              "  <tbody>\n",
              "    <tr>\n",
              "      <th>9</th>\n",
              "      <td>9</td>\n",
              "      <td>0.013441</td>\n",
              "    </tr>\n",
              "    <tr>\n",
              "      <th>15</th>\n",
              "      <td>15</td>\n",
              "      <td>0.001824</td>\n",
              "    </tr>\n",
              "    <tr>\n",
              "      <th>31</th>\n",
              "      <td>31</td>\n",
              "      <td>0.007838</td>\n",
              "    </tr>\n",
              "    <tr>\n",
              "      <th>32</th>\n",
              "      <td>32</td>\n",
              "      <td>0.000588</td>\n",
              "    </tr>\n",
              "    <tr>\n",
              "      <th>35</th>\n",
              "      <td>35</td>\n",
              "      <td>0.006474</td>\n",
              "    </tr>\n",
              "    <tr>\n",
              "      <th>...</th>\n",
              "      <td>...</td>\n",
              "      <td>...</td>\n",
              "    </tr>\n",
              "    <tr>\n",
              "      <th>4490442</th>\n",
              "      <td>4490442</td>\n",
              "      <td>0.116213</td>\n",
              "    </tr>\n",
              "    <tr>\n",
              "      <th>4490447</th>\n",
              "      <td>4490447</td>\n",
              "      <td>0.015797</td>\n",
              "    </tr>\n",
              "    <tr>\n",
              "      <th>4490449</th>\n",
              "      <td>4490449</td>\n",
              "      <td>0.007971</td>\n",
              "    </tr>\n",
              "    <tr>\n",
              "      <th>4490461</th>\n",
              "      <td>4490461</td>\n",
              "      <td>0.012226</td>\n",
              "    </tr>\n",
              "    <tr>\n",
              "      <th>4490466</th>\n",
              "      <td>4490466</td>\n",
              "      <td>0.019184</td>\n",
              "    </tr>\n",
              "  </tbody>\n",
              "</table>\n",
              "<p>4490468 rows × 2 columns</p>\n",
              "</div>"
            ],
            "text/plain": [
              "              id  catboost_86.11_proba\n",
              "9              9              0.013441\n",
              "15            15              0.001824\n",
              "31            31              0.007838\n",
              "32            32              0.000588\n",
              "35            35              0.006474\n",
              "...          ...                   ...\n",
              "4490442  4490442              0.116213\n",
              "4490447  4490447              0.015797\n",
              "4490449  4490449              0.007971\n",
              "4490461  4490461              0.012226\n",
              "4490466  4490466              0.019184\n",
              "\n",
              "[4490468 rows x 2 columns]"
            ]
          },
          "execution_count": 140,
          "metadata": {},
          "output_type": "execute_result"
        }
      ],
      "source": [
        "cat_boost_preds"
      ]
    },
    {
      "cell_type": "code",
      "execution_count": null,
      "metadata": {
        "id": "WxSf_nPnx9EJ"
      },
      "outputs": [],
      "source": [
        "cat_boost_preds.sort_values('id', ascending=True).to_csv('catboost_86.11_train_preds.csv', index=False)"
      ]
    }
  ],
  "metadata": {
    "accelerator": "GPU",
    "colab": {
      "gpuType": "L4",
      "machine_shape": "hm",
      "provenance": []
    },
    "kernelspec": {
      "display_name": "Python 3 (ipykernel)",
      "language": "python",
      "name": "python3"
    },
    "language_info": {
      "codemirror_mode": {
        "name": "ipython",
        "version": 3
      },
      "file_extension": ".py",
      "mimetype": "text/x-python",
      "name": "python",
      "nbconvert_exporter": "python",
      "pygments_lexer": "ipython3",
      "version": "3.12.3"
    }
  },
  "nbformat": 4,
  "nbformat_minor": 0
}